{
 "cells": [
  {
   "cell_type": "code",
   "execution_count": 1,
   "metadata": {},
   "outputs": [],
   "source": [
    "from geopy.distance import geodesic\n",
    "import partridge as pt\n",
    "import pandas as pd\n",
    "from meteostat import Point as MeteoPoint, Hourly as MeteoHourly\n",
    "from datetime import datetime\n",
    "import data_processing as dp\n",
    "import geopandas as gpd\n",
    "from shapely.geometry import Point as GeoPoint\n",
    "\n",
    "import seaborn as sns\n",
    "import matplotlib.pyplot as plt\n",
    "from mpl_toolkits.axes_grid1.inset_locator import inset_axes\n",
    "\n",
    "from datetime import timedelta, time\n",
    "\n"
   ]
  },
  {
   "cell_type": "code",
   "execution_count": 2,
   "metadata": {},
   "outputs": [],
   "source": [
    "feed = pt.load_feed(\"gtfs\")\n",
    "\n",
    "# Inspect key tables\n",
    "stops = feed.stops\n",
    "stop_times = feed.stop_times\n",
    "routes = feed.routes\n",
    "trips = feed.trips\n"
   ]
  },
  {
   "cell_type": "code",
   "execution_count": 3,
   "metadata": {},
   "outputs": [
    {
     "data": {
      "text/html": [
       "<div>\n",
       "<style scoped>\n",
       "    .dataframe tbody tr th:only-of-type {\n",
       "        vertical-align: middle;\n",
       "    }\n",
       "\n",
       "    .dataframe tbody tr th {\n",
       "        vertical-align: top;\n",
       "    }\n",
       "\n",
       "    .dataframe thead th {\n",
       "        text-align: right;\n",
       "    }\n",
       "</style>\n",
       "<table border=\"1\" class=\"dataframe\">\n",
       "  <thead>\n",
       "    <tr style=\"text-align: right;\">\n",
       "      <th></th>\n",
       "      <th>feed_publisher_name</th>\n",
       "      <th>feed_publisher_url</th>\n",
       "      <th>feed_lang</th>\n",
       "      <th>feed_start_date</th>\n",
       "      <th>feed_end_date</th>\n",
       "      <th>feed_version</th>\n",
       "      <th>feed_contact_email</th>\n",
       "    </tr>\n",
       "  </thead>\n",
       "  <tbody>\n",
       "    <tr>\n",
       "      <th>0</th>\n",
       "      <td>MBTA</td>\n",
       "      <td>http://www.mbta.com</td>\n",
       "      <td>EN</td>\n",
       "      <td>2022-12-29</td>\n",
       "      <td>2023-03-11</td>\n",
       "      <td>Winter 2023, 2023-01-05T00:13:26+00:00, version D</td>\n",
       "      <td>developer@mbta.com</td>\n",
       "    </tr>\n",
       "  </tbody>\n",
       "</table>\n",
       "</div>"
      ],
      "text/plain": [
       "  feed_publisher_name   feed_publisher_url feed_lang feed_start_date  \\\n",
       "0                MBTA  http://www.mbta.com        EN      2022-12-29   \n",
       "\n",
       "  feed_end_date                                       feed_version  \\\n",
       "0    2023-03-11  Winter 2023, 2023-01-05T00:13:26+00:00, version D   \n",
       "\n",
       "   feed_contact_email  \n",
       "0  developer@mbta.com  "
      ]
     },
     "execution_count": 3,
     "metadata": {},
     "output_type": "execute_result"
    }
   ],
   "source": [
    "feed.feed_info"
   ]
  },
  {
   "cell_type": "code",
   "execution_count": 4,
   "metadata": {},
   "outputs": [
    {
     "name": "stdout",
     "output_type": "stream",
     "text": [
      "Stops Table:\n",
      "   stop_id stop_code                      stop_name stop_desc platform_code  \\\n",
      "0       1         1   Washington St opp Ruggles St       NaN           NaN   \n",
      "1      10        10  Theo Glynn Way @ Newmarket Sq       NaN           NaN   \n",
      "2   10000     10000       Tremont St opp Temple Pl       NaN           NaN   \n",
      "3   10003     10003       Albany St opp Randall St       NaN           NaN   \n",
      "4   10005     10005     Albany St opp E Concord St       NaN           NaN   \n",
      "\n",
      "  platform_name   stop_lat   stop_lon              zone_id stop_address  \\\n",
      "0           NaN  42.330957 -71.082754  ExpressBus-Downtown          NaN   \n",
      "1           NaN  42.330555 -71.068787             LocalBus          NaN   \n",
      "2           NaN  42.355692 -71.062911             LocalBus          NaN   \n",
      "3           NaN  42.331591 -71.076237             LocalBus          NaN   \n",
      "4           NaN  42.335017 -71.071280             LocalBus          NaN   \n",
      "\n",
      "                           stop_url level_id  location_type parent_station  \\\n",
      "0      https://www.mbta.com/stops/1      NaN              0            NaN   \n",
      "1     https://www.mbta.com/stops/10      NaN              0            NaN   \n",
      "2  https://www.mbta.com/stops/10000      NaN              0            NaN   \n",
      "3  https://www.mbta.com/stops/10003      NaN              0            NaN   \n",
      "4  https://www.mbta.com/stops/10005      NaN              0            NaN   \n",
      "\n",
      "   wheelchair_boarding municipality           on_street         at_street  \\\n",
      "0                    1       Boston   Washington Street    Ruggles Street   \n",
      "1                    1       Boston  Theodore Glynn Way  Newmarket Square   \n",
      "2                    1       Boston      Tremont Street      Temple Place   \n",
      "3                    1       Boston       Albany Street    Randall Street   \n",
      "4                    1       Boston       Albany Street               NaN   \n",
      "\n",
      "  vehicle_type  \n",
      "0            3  \n",
      "1            3  \n",
      "2            3  \n",
      "3            3  \n",
      "4            3  \n"
     ]
    }
   ],
   "source": [
    "print(\"Stops Table:\\n\", stops.head())\n"
   ]
  },
  {
   "cell_type": "code",
   "execution_count": 5,
   "metadata": {},
   "outputs": [
    {
     "name": "stderr",
     "output_type": "stream",
     "text": [
      "FutureWarning: Support for nested sequences for 'parse_dates' in pd.read_csv is deprecated. Combine the desired columns with pd.to_datetime after parsing instead.\n",
      "FutureWarning: Support for nested sequences for 'parse_dates' in pd.read_csv is deprecated. Combine the desired columns with pd.to_datetime after parsing instead.\n",
      "FutureWarning: Support for nested sequences for 'parse_dates' in pd.read_csv is deprecated. Combine the desired columns with pd.to_datetime after parsing instead.\n",
      "FutureWarning: Support for nested sequences for 'parse_dates' in pd.read_csv is deprecated. Combine the desired columns with pd.to_datetime after parsing instead.\n",
      "FutureWarning: 'H' is deprecated and will be removed in a future version, please use 'h' instead.\n"
     ]
    }
   ],
   "source": [
    "bike_data = pd.read_csv('data/boston/202301-bluebikes-tripdata.csv')\n",
    "boston = MeteoPoint(42.3601, -71.0589)  # Latitude and Longitude for Boston\n",
    "start = datetime(2023, 1, 1)\n",
    "end = datetime(2023, 1, 31)\n",
    "\n",
    "weather_data_hourly = MeteoHourly(boston, start, end)\n",
    "weather_data_hourly = weather_data_hourly.fetch()\n"
   ]
  },
  {
   "cell_type": "code",
   "execution_count": 6,
   "metadata": {},
   "outputs": [],
   "source": [
    "weather_data_hourly = weather_data_hourly.reset_index()\n",
    "bike_data['starttime'] = pd.to_datetime(bike_data['starttime'])\n",
    "weather_data_hourly['time'] = pd.to_datetime(weather_data_hourly['time'])\n",
    "\n",
    "bike_weather_data = pd.merge_asof(bike_data, weather_data_hourly, left_on='starttime', right_on='time', direction='nearest')\n"
   ]
  },
  {
   "cell_type": "code",
   "execution_count": 7,
   "metadata": {},
   "outputs": [],
   "source": [
    "bike_weather_data = bike_weather_data.drop(columns=['snow', 'wpgt', 'tsun'])\n",
    "bike_weather_data = dp.distance_feature(bike_weather_data)\n",
    "bike_weather_data = dp.speed_feature(bike_weather_data)\n",
    "bike_weather_data = dp.date_related_features(bike_weather_data)"
   ]
  },
  {
   "cell_type": "markdown",
   "metadata": {},
   "source": [
    "## Mass Transit data features"
   ]
  },
  {
   "cell_type": "markdown",
   "metadata": {},
   "source": [
    "### Frequencies feature"
   ]
  },
  {
   "cell_type": "code",
   "execution_count": 8,
   "metadata": {},
   "outputs": [],
   "source": [
    "# Create geometry columns for start and end stations\n",
    "bike_weather_data['start_geometry'] = bike_weather_data.apply(\n",
    "    lambda x: GeoPoint(x['start station longitude'], x['start station latitude']), axis=1\n",
    ")\n",
    "bike_weather_data['end_geometry'] = bike_weather_data.apply(\n",
    "    lambda x: GeoPoint(x['end station longitude'], x['end station latitude']), axis=1\n",
    ")\n"
   ]
  },
  {
   "cell_type": "code",
   "execution_count": 9,
   "metadata": {},
   "outputs": [],
   "source": [
    "# Convert bike_weather_data to a GeoDataFrame using start_geometry as the default geometry\n",
    "bike_gdf = gpd.GeoDataFrame(bike_weather_data, geometry='start_geometry')\n"
   ]
  },
  {
   "cell_type": "code",
   "execution_count": 10,
   "metadata": {},
   "outputs": [
    {
     "data": {
      "text/plain": [
       "Index(['stop_id', 'stop_code', 'stop_name', 'stop_desc', 'platform_code',\n",
       "       'platform_name', 'stop_lat', 'stop_lon', 'zone_id', 'stop_address',\n",
       "       'stop_url', 'level_id', 'location_type', 'parent_station',\n",
       "       'wheelchair_boarding', 'municipality', 'on_street', 'at_street',\n",
       "       'vehicle_type'],\n",
       "      dtype='object')"
      ]
     },
     "execution_count": 10,
     "metadata": {},
     "output_type": "execute_result"
    }
   ],
   "source": [
    "stops.columns"
   ]
  },
  {
   "cell_type": "code",
   "execution_count": 11,
   "metadata": {},
   "outputs": [],
   "source": [
    "# Convert stops DataFrame to a GeoDataFrame\n",
    "stops['geometry'] = stops.apply(lambda x: GeoPoint(x['stop_lon'], x['stop_lat']), axis=1)\n",
    "stops_gdf = gpd.GeoDataFrame(stops, geometry='geometry')\n",
    "\n",
    "# Keep only the columns we need\n",
    "stops_gdf = stops_gdf[['stop_id', 'geometry']]"
   ]
  },
  {
   "cell_type": "code",
   "execution_count": 12,
   "metadata": {},
   "outputs": [],
   "source": [
    "# Set the coordinate reference system (CRS) to WGS84 (EPSG:4326)\n",
    "bike_gdf.set_crs(epsg=4326, inplace=True)\n",
    "stops_gdf.set_crs(epsg=4326, inplace=True)\n",
    "\n",
    "# Convert CRS to a projection that allows distance calculations in meters (EPSG:3857)\n",
    "stops_gdf = stops_gdf.to_crs(epsg=3857)\n",
    "bike_gdf = bike_gdf.to_crs(epsg=3857)\n"
   ]
  },
  {
   "cell_type": "code",
   "execution_count": 13,
   "metadata": {},
   "outputs": [],
   "source": [
    "radius = 500  # Example radius in meters\n",
    "bike_gdf['buffer'] = bike_gdf.geometry.buffer(radius)\n",
    "# Spatial joins to count nearby stops\n",
    "start_station_nearby = gpd.sjoin(stops_gdf, bike_gdf.set_geometry('buffer'), how='inner', predicate='within')\n",
    "\n",
    "# Set end_geometry as the active geometry\n",
    "bike_gdf.set_geometry('end_geometry', inplace=True) \n",
    "bike_gdf = bike_gdf.set_crs(epsg=4326, inplace=True).to_crs(epsg=3857)\n",
    "\n",
    "bike_gdf['buffer'] = bike_gdf.geometry.buffer(radius)\n",
    "end_station_nearby = gpd.sjoin(stops_gdf, bike_gdf.set_geometry('buffer'), how='inner', predicate='within')\n"
   ]
  },
  {
   "cell_type": "code",
   "execution_count": 14,
   "metadata": {},
   "outputs": [
    {
     "data": {
      "text/plain": [
       "Index(['stop_id', 'geometry', 'index_right', 'tripduration', 'starttime',\n",
       "       'stoptime', 'start station id', 'start station name',\n",
       "       'start station latitude', 'start station longitude', 'end station id',\n",
       "       'end station name', 'end station latitude', 'end station longitude',\n",
       "       'bikeid', 'usertype', 'postal code', 'time', 'temp', 'dwpt', 'rhum',\n",
       "       'prcp', 'wdir', 'wspd', 'pres', 'coco', 'distance', 'speed',\n",
       "       'start_hour', 'start_dayofweek', 'start_month', 'end_hour',\n",
       "       'end_dayofweek', 'end_month', 'start_geometry', 'end_geometry'],\n",
       "      dtype='object')"
      ]
     },
     "execution_count": 14,
     "metadata": {},
     "output_type": "execute_result"
    }
   ],
   "source": [
    "end_station_nearby.columns"
   ]
  },
  {
   "cell_type": "code",
   "execution_count": 15,
   "metadata": {},
   "outputs": [],
   "source": [
    "# Count the number of nearby stops for each unique start and end station\n",
    "start_station_nearby_counts = start_station_nearby.groupby('index_right').size()\n",
    "end_station_nearby_counts = end_station_nearby.groupby('index_right').size()\n",
    "\n",
    "# Add the counts back to the original bike_weather_data\n",
    "bike_weather_data['start_station_nearby_stations'] = bike_weather_data.index.map(start_station_nearby_counts).fillna(0).astype(int)\n",
    "bike_weather_data['end_station_nearby_stations'] = bike_weather_data.index.map(end_station_nearby_counts).fillna(0).astype(int)\n"
   ]
  },
  {
   "cell_type": "code",
   "execution_count": 16,
   "metadata": {},
   "outputs": [
    {
     "name": "stderr",
     "output_type": "stream",
     "text": [
      "FutureWarning: \n",
      "\n",
      "`shade` is now deprecated in favor of `fill`; setting `fill=True`.\n",
      "This will become an error in seaborn v0.14.0; please update your code.\n",
      "\n",
      "FutureWarning: \n",
      "\n",
      "`shade` is now deprecated in favor of `fill`; setting `fill=True`.\n",
      "This will become an error in seaborn v0.14.0; please update your code.\n",
      "\n",
      "UserWarning: set_ticklabels() should only be used with a fixed number of ticks, i.e. after set_ticks() or using a FixedLocator.\n"
     ]
    },
    {
     "data": {
      "image/png": "[encoded data removed]",
      "text/plain": [
       "<Figure size 1200x600 with 2 Axes>"
      ]
     },
     "metadata": {},
     "output_type": "display_data"
    }
   ],
   "source": [
    "# Set up the main figure and axes\n",
    "fig, main_ax = plt.subplots(figsize=(12, 6))\n",
    "\n",
    "# KDE plots on the main axis\n",
    "sns.kdeplot(bike_weather_data['start_station_nearby_stations'], ax=main_ax, color='blue', shade=True, label='Start Station Nearby Stops')\n",
    "sns.kdeplot(bike_weather_data['end_station_nearby_stations'], ax=main_ax, color='green', shade=True, label='End Station Nearby Stops')\n",
    "\n",
    "main_ax.set_title('KDE Plot with Inset Box Plots: Start and End Station Nearby Stops')\n",
    "main_ax.set_xlabel('Number of Nearby Stops')\n",
    "main_ax.set_ylabel('Density')\n",
    "main_ax.legend()\n",
    "\n",
    "# Create inset axes for the box plot\n",
    "inset_ax = inset_axes(main_ax, width=\"20%\", height=\"30%\", loc='right')  # Adjust size and position as needed\n",
    "\n",
    "# Box plots on the inset axis\n",
    "sns.boxplot(data=[\n",
    "    bike_weather_data['start_station_nearby_stations'], \n",
    "    bike_weather_data['end_station_nearby_stations']\n",
    "], ax=inset_ax, palette=['blue', 'green'])\n",
    "\n",
    "# Remove x-axis labels from the inset box plot for a cleaner look\n",
    "inset_ax.set_xticklabels(['Start', 'End'])\n",
    "inset_ax.set_xlabel('')\n",
    "inset_ax.set_ylabel('')\n",
    "\n",
    "plt.show()\n"
   ]
  },
  {
   "cell_type": "code",
   "execution_count": 17,
   "metadata": {},
   "outputs": [
    {
     "name": "stdout",
     "output_type": "stream",
     "text": [
      "   start_station_nearby_stations  end_station_nearby_stations\n",
      "0                             15                            8\n",
      "1                              9                           14\n",
      "2                              9                           14\n",
      "3                              1                           12\n",
      "4                             11                           20\n"
     ]
    }
   ],
   "source": [
    "print(bike_weather_data[['start_station_nearby_stations', 'end_station_nearby_stations']].head())\n"
   ]
  },
  {
   "cell_type": "code",
   "execution_count": 18,
   "metadata": {},
   "outputs": [
    {
     "name": "stdout",
     "output_type": "stream",
     "text": [
      "6.0 14.0\n"
     ]
    }
   ],
   "source": [
    "q1 = bike_weather_data['start_station_nearby_stations'].quantile(0.25)\n",
    "q2 = bike_weather_data['start_station_nearby_stations'].quantile(0.75)\n",
    "print(q1, q2)"
   ]
  },
  {
   "cell_type": "code",
   "execution_count": 19,
   "metadata": {},
   "outputs": [],
   "source": [
    "# Define thresholds for categorization based on the quantiles and encode directly\n",
    "def encode_nearby_stops(count):\n",
    "    if count <= 5:\n",
    "        return 0  # 0 = Badly Connected\n",
    "    elif 6 <= count <= 15:\n",
    "        return 1  # 1 = Moderately Connected\n",
    "    else:\n",
    "        return 2  # 2 = Well Connected\n",
    "\n",
    "# Apply encoding to both features\n",
    "bike_weather_data['start_station_connection_encoded'] = bike_weather_data['start_station_nearby_stations'].apply(encode_nearby_stops)\n",
    "bike_weather_data['end_station_connection_encoded'] = bike_weather_data['end_station_nearby_stations'].apply(encode_nearby_stops)\n"
   ]
  },
  {
   "cell_type": "code",
   "execution_count": 20,
   "metadata": {},
   "outputs": [
    {
     "data": {
      "text/html": [
       "<div>\n",
       "<style scoped>\n",
       "    .dataframe tbody tr th:only-of-type {\n",
       "        vertical-align: middle;\n",
       "    }\n",
       "\n",
       "    .dataframe tbody tr th {\n",
       "        vertical-align: top;\n",
       "    }\n",
       "\n",
       "    .dataframe thead th {\n",
       "        text-align: right;\n",
       "    }\n",
       "</style>\n",
       "<table border=\"1\" class=\"dataframe\">\n",
       "  <thead>\n",
       "    <tr style=\"text-align: right;\">\n",
       "      <th></th>\n",
       "      <th>tripduration</th>\n",
       "      <th>starttime</th>\n",
       "      <th>stoptime</th>\n",
       "      <th>start station id</th>\n",
       "      <th>start station name</th>\n",
       "      <th>start station latitude</th>\n",
       "      <th>start station longitude</th>\n",
       "      <th>end station id</th>\n",
       "      <th>end station name</th>\n",
       "      <th>end station latitude</th>\n",
       "      <th>...</th>\n",
       "      <th>start_month</th>\n",
       "      <th>end_hour</th>\n",
       "      <th>end_dayofweek</th>\n",
       "      <th>end_month</th>\n",
       "      <th>start_geometry</th>\n",
       "      <th>end_geometry</th>\n",
       "      <th>start_station_nearby_stations</th>\n",
       "      <th>end_station_nearby_stations</th>\n",
       "      <th>start_station_connection_encoded</th>\n",
       "      <th>end_station_connection_encoded</th>\n",
       "    </tr>\n",
       "  </thead>\n",
       "  <tbody>\n",
       "    <tr>\n",
       "      <th>0</th>\n",
       "      <td>250</td>\n",
       "      <td>2023-01-01 00:02:54.080</td>\n",
       "      <td>2023-01-01 00:07:04.4100</td>\n",
       "      <td>36</td>\n",
       "      <td>Copley Square - Dartmouth St at Boylston St</td>\n",
       "      <td>42.349928</td>\n",
       "      <td>-71.077392</td>\n",
       "      <td>21</td>\n",
       "      <td>Prudential Center - 101 Huntington Ave</td>\n",
       "      <td>42.346520</td>\n",
       "      <td>...</td>\n",
       "      <td>1</td>\n",
       "      <td>0</td>\n",
       "      <td>6</td>\n",
       "      <td>1</td>\n",
       "      <td>POINT (-71.07739206866427 42.34992828230057)</td>\n",
       "      <td>POINT (-71.08065776545118 42.34652003998412)</td>\n",
       "      <td>15</td>\n",
       "      <td>8</td>\n",
       "      <td>1</td>\n",
       "      <td>1</td>\n",
       "    </tr>\n",
       "    <tr>\n",
       "      <th>1</th>\n",
       "      <td>489</td>\n",
       "      <td>2023-01-01 00:10:33.310</td>\n",
       "      <td>2023-01-01 00:18:42.3690</td>\n",
       "      <td>372</td>\n",
       "      <td>Boylston St at Exeter St</td>\n",
       "      <td>42.349589</td>\n",
       "      <td>-71.079468</td>\n",
       "      <td>404</td>\n",
       "      <td>Mass Ave T Station</td>\n",
       "      <td>42.341356</td>\n",
       "      <td>...</td>\n",
       "      <td>1</td>\n",
       "      <td>0</td>\n",
       "      <td>6</td>\n",
       "      <td>1</td>\n",
       "      <td>POINT (-71.0794677917329 42.349589423682445)</td>\n",
       "      <td>POINT (-71.08336953450817 42.34135615767354)</td>\n",
       "      <td>9</td>\n",
       "      <td>14</td>\n",
       "      <td>1</td>\n",
       "      <td>1</td>\n",
       "    </tr>\n",
       "    <tr>\n",
       "      <th>2</th>\n",
       "      <td>461</td>\n",
       "      <td>2023-01-01 00:10:49.913</td>\n",
       "      <td>2023-01-01 00:18:31.1280</td>\n",
       "      <td>372</td>\n",
       "      <td>Boylston St at Exeter St</td>\n",
       "      <td>42.349589</td>\n",
       "      <td>-71.079468</td>\n",
       "      <td>404</td>\n",
       "      <td>Mass Ave T Station</td>\n",
       "      <td>42.341356</td>\n",
       "      <td>...</td>\n",
       "      <td>1</td>\n",
       "      <td>0</td>\n",
       "      <td>6</td>\n",
       "      <td>1</td>\n",
       "      <td>POINT (-71.0794677917329 42.349589423682445)</td>\n",
       "      <td>POINT (-71.08336953450817 42.34135615767354)</td>\n",
       "      <td>9</td>\n",
       "      <td>14</td>\n",
       "      <td>1</td>\n",
       "      <td>1</td>\n",
       "    </tr>\n",
       "    <tr>\n",
       "      <th>3</th>\n",
       "      <td>1065</td>\n",
       "      <td>2023-01-01 00:13:58.064</td>\n",
       "      <td>2023-01-01 00:31:43.5090</td>\n",
       "      <td>58</td>\n",
       "      <td>Mugar Way at Beacon St</td>\n",
       "      <td>42.355536</td>\n",
       "      <td>-71.072869</td>\n",
       "      <td>345</td>\n",
       "      <td>Park Plaza at Charles St S.</td>\n",
       "      <td>42.351828</td>\n",
       "      <td>...</td>\n",
       "      <td>1</td>\n",
       "      <td>0</td>\n",
       "      <td>6</td>\n",
       "      <td>1</td>\n",
       "      <td>POINT (-71.07286870479584 42.35553628489709)</td>\n",
       "      <td>POINT (-71.06781138111728 42.35182806892068)</td>\n",
       "      <td>1</td>\n",
       "      <td>12</td>\n",
       "      <td>0</td>\n",
       "      <td>1</td>\n",
       "    </tr>\n",
       "    <tr>\n",
       "      <th>4</th>\n",
       "      <td>601</td>\n",
       "      <td>2023-01-01 00:14:02.613</td>\n",
       "      <td>2023-01-01 00:24:03.8950</td>\n",
       "      <td>50</td>\n",
       "      <td>Boylston St at Berkeley St</td>\n",
       "      <td>42.351142</td>\n",
       "      <td>-71.073292</td>\n",
       "      <td>374</td>\n",
       "      <td>Tremont St at Hamilton Pl</td>\n",
       "      <td>42.356683</td>\n",
       "      <td>...</td>\n",
       "      <td>1</td>\n",
       "      <td>0</td>\n",
       "      <td>6</td>\n",
       "      <td>1</td>\n",
       "      <td>POINT (-71.07329249382019 42.3511419825475)</td>\n",
       "      <td>POINT (-71.06166645884514 42.35668334969929)</td>\n",
       "      <td>11</td>\n",
       "      <td>20</td>\n",
       "      <td>1</td>\n",
       "      <td>2</td>\n",
       "    </tr>\n",
       "  </tbody>\n",
       "</table>\n",
       "<p>5 rows × 37 columns</p>\n",
       "</div>"
      ],
      "text/plain": [
       "   tripduration               starttime                  stoptime  \\\n",
       "0           250 2023-01-01 00:02:54.080  2023-01-01 00:07:04.4100   \n",
       "1           489 2023-01-01 00:10:33.310  2023-01-01 00:18:42.3690   \n",
       "2           461 2023-01-01 00:10:49.913  2023-01-01 00:18:31.1280   \n",
       "3          1065 2023-01-01 00:13:58.064  2023-01-01 00:31:43.5090   \n",
       "4           601 2023-01-01 00:14:02.613  2023-01-01 00:24:03.8950   \n",
       "\n",
       "   start station id                           start station name  \\\n",
       "0                36  Copley Square - Dartmouth St at Boylston St   \n",
       "1               372                     Boylston St at Exeter St   \n",
       "2               372                     Boylston St at Exeter St   \n",
       "3                58                       Mugar Way at Beacon St   \n",
       "4                50                   Boylston St at Berkeley St   \n",
       "\n",
       "   start station latitude  start station longitude  end station id  \\\n",
       "0               42.349928               -71.077392              21   \n",
       "1               42.349589               -71.079468             404   \n",
       "2               42.349589               -71.079468             404   \n",
       "3               42.355536               -71.072869             345   \n",
       "4               42.351142               -71.073292             374   \n",
       "\n",
       "                         end station name  end station latitude  ...  \\\n",
       "0  Prudential Center - 101 Huntington Ave             42.346520  ...   \n",
       "1                      Mass Ave T Station             42.341356  ...   \n",
       "2                      Mass Ave T Station             42.341356  ...   \n",
       "3             Park Plaza at Charles St S.             42.351828  ...   \n",
       "4               Tremont St at Hamilton Pl             42.356683  ...   \n",
       "\n",
       "   start_month  end_hour end_dayofweek end_month  \\\n",
       "0            1         0             6         1   \n",
       "1            1         0             6         1   \n",
       "2            1         0             6         1   \n",
       "3            1         0             6         1   \n",
       "4            1         0             6         1   \n",
       "\n",
       "                                 start_geometry  \\\n",
       "0  POINT (-71.07739206866427 42.34992828230057)   \n",
       "1  POINT (-71.0794677917329 42.349589423682445)   \n",
       "2  POINT (-71.0794677917329 42.349589423682445)   \n",
       "3  POINT (-71.07286870479584 42.35553628489709)   \n",
       "4   POINT (-71.07329249382019 42.3511419825475)   \n",
       "\n",
       "                                   end_geometry  \\\n",
       "0  POINT (-71.08065776545118 42.34652003998412)   \n",
       "1  POINT (-71.08336953450817 42.34135615767354)   \n",
       "2  POINT (-71.08336953450817 42.34135615767354)   \n",
       "3  POINT (-71.06781138111728 42.35182806892068)   \n",
       "4  POINT (-71.06166645884514 42.35668334969929)   \n",
       "\n",
       "   start_station_nearby_stations  end_station_nearby_stations  \\\n",
       "0                             15                            8   \n",
       "1                              9                           14   \n",
       "2                              9                           14   \n",
       "3                              1                           12   \n",
       "4                             11                           20   \n",
       "\n",
       "   start_station_connection_encoded  end_station_connection_encoded  \n",
       "0                                 1                               1  \n",
       "1                                 1                               1  \n",
       "2                                 1                               1  \n",
       "3                                 0                               1  \n",
       "4                                 1                               2  \n",
       "\n",
       "[5 rows x 37 columns]"
      ]
     },
     "execution_count": 20,
     "metadata": {},
     "output_type": "execute_result"
    }
   ],
   "source": [
    "bike_weather_data.head()"
   ]
  },
  {
   "cell_type": "code",
   "execution_count": 21,
   "metadata": {},
   "outputs": [
    {
     "data": {
      "text/plain": [
       "Index(['tripduration', 'starttime', 'stoptime', 'start station id',\n",
       "       'start station name', 'start station latitude',\n",
       "       'start station longitude', 'end station id', 'end station name',\n",
       "       'end station latitude', 'end station longitude', 'bikeid', 'usertype',\n",
       "       'postal code', 'time', 'temp', 'dwpt', 'rhum', 'prcp', 'wdir', 'wspd',\n",
       "       'pres', 'coco', 'distance', 'speed', 'start_hour', 'start_dayofweek',\n",
       "       'start_month', 'end_hour', 'end_dayofweek', 'end_month',\n",
       "       'start_geometry', 'end_geometry', 'start_station_nearby_stations',\n",
       "       'end_station_nearby_stations', 'start_station_connection_encoded',\n",
       "       'end_station_connection_encoded'],\n",
       "      dtype='object')"
      ]
     },
     "execution_count": 21,
     "metadata": {},
     "output_type": "execute_result"
    }
   ],
   "source": [
    "bike_weather_data.columns"
   ]
  },
  {
   "cell_type": "markdown",
   "metadata": {},
   "source": [
    "## Transit Frequency"
   ]
  },
  {
   "cell_type": "markdown",
   "metadata": {},
   "source": [
    "We processed the mass transit dataset using a relational database approach, linking tables like stops, stop_times, trips, and calendar through unique identifiers such as stop_id, trip_id, and service_id. By iterating through calendar data, we generated all relevant service dates, then merged these with trips and stop_times to create a complete arrival_time that combines the correct date and time. This ensured accurate temporal alignment for analyzing transit schedules alongside bike-sharing data."
   ]
  },
  {
   "cell_type": "code",
   "execution_count": 22,
   "metadata": {},
   "outputs": [],
   "source": [
    "# Step 2: Convert 'arrival_time' from seconds to time format\n",
    "def convert_seconds_to_time(seconds):\n",
    "    try:\n",
    "        seconds = int(seconds)\n",
    "        hours = seconds // 3600\n",
    "        minutes = (seconds % 3600) // 60\n",
    "        seconds = seconds % 60\n",
    "        # Normalize hours if they exceed 23 (e.g., \"24:10:00\" becomes \"00:10:00\")\n",
    "        if hours >= 24:\n",
    "            hours -= 24\n",
    "        return time(hours, minutes, seconds)\n",
    "    except (ValueError, TypeError):\n",
    "        return None\n",
    "\n",
    "stop_times['arrival_time'] = stop_times['arrival_time'].apply(convert_seconds_to_time)\n"
   ]
  },
  {
   "cell_type": "code",
   "execution_count": 23,
   "metadata": {},
   "outputs": [],
   "source": [
    "stops = feed.stops\n",
    "stop_times = feed.stop_times\n",
    "trips = feed.trips\n",
    "calendar = feed.calendar\n",
    "\n",
    "# Step 2: Process calendar.txt to create a list of service dates\n",
    "service_dates = []\n",
    "\n",
    "# Convert 'start_date' and 'end_date' to datetime objects using pd.to_datetime\n",
    "calendar['start_date'] = pd.to_datetime(calendar['start_date'], format='%Y%m%d')\n",
    "calendar['end_date'] = pd.to_datetime(calendar['end_date'], format='%Y%m%d')\n",
    "\n",
    "# Iterate through each row in the calendar to generate dates for each service_id\n",
    "for index, row in calendar.iterrows():\n",
    "    start_date = row['start_date']\n",
    "    end_date = row['end_date']\n",
    "    \n",
    "    # Generate all dates between start_date and end_date\n",
    "    current_date = start_date\n",
    "    while current_date <= end_date:\n",
    "        # Check if the service operates on the current day of the week\n",
    "        day_of_week = current_date.strftime('%A').lower()\n",
    "        if row[day_of_week] == 1:  # 1 means service operates on this day\n",
    "            service_dates.append({\n",
    "                'service_id': row['service_id'],\n",
    "                'date': current_date\n",
    "            })\n",
    "        current_date += timedelta(days=1)\n",
    "\n"
   ]
  },
  {
   "cell_type": "code",
   "execution_count": 24,
   "metadata": {},
   "outputs": [],
   "source": [
    "# Convert service_dates to a DataFrame\n",
    "service_dates_df = pd.DataFrame(service_dates)\n",
    "\n",
    "# Join service_dates with trips to associate dates with trips\n",
    "trips_with_dates = trips.merge(service_dates_df, on='service_id')\n",
    "trips_with_dates = trips_with_dates[['service_id' ,'trip_id', 'date']]\n",
    "\n",
    "# Join with stop_times to create full arrival times\n",
    "stop_times_with_dates = stop_times.merge(trips_with_dates, on='trip_id')\n"
   ]
  },
  {
   "cell_type": "code",
   "execution_count": 25,
   "metadata": {},
   "outputs": [],
   "source": [
    "# Convert 'date' to a string and then combine with 'arrival_time' to create a full datetime\n",
    "stop_times_with_dates['arrival_time'] = pd.to_datetime(\n",
    "    stop_times_with_dates['date'].astype(str) + ' ' + stop_times_with_dates['arrival_time'].astype(str),\n",
    "    format='%Y-%m-%d %H:%M:%S',\n",
    "    errors='coerce'\n",
    ")"
   ]
  },
  {
   "cell_type": "code",
   "execution_count": 26,
   "metadata": {},
   "outputs": [
    {
     "data": {
      "text/plain": [
       "Index(['trip_id', 'arrival_time', 'departure_time', 'stop_id', 'stop_sequence',\n",
       "       'stop_headsign', 'pickup_type', 'drop_off_type', 'timepoint',\n",
       "       'checkpoint_id', 'continuous_pickup', 'continuous_drop_off',\n",
       "       'service_id', 'date'],\n",
       "      dtype='object')"
      ]
     },
     "execution_count": 26,
     "metadata": {},
     "output_type": "execute_result"
    }
   ],
   "source": [
    "stop_times_with_dates.columns"
   ]
  },
  {
   "cell_type": "code",
   "execution_count": 27,
   "metadata": {},
   "outputs": [],
   "source": [
    "stop_times_with_dates = stop_times_with_dates[['arrival_time', 'stop_id']]"
   ]
  },
  {
   "cell_type": "markdown",
   "metadata": {},
   "source": [
    "### Transit Trips Before Start\n",
    "\n",
    "Number of mass transit trips within a 500-meter radius and 15 minutes before the bike ride starts. This feature captures the potential for users to have used public transit as a feeder to the bike ride."
   ]
  },
  {
   "cell_type": "code",
   "execution_count": 28,
   "metadata": {},
   "outputs": [],
   "source": [
    "bike_gdf.set_geometry('start_geometry', inplace=True) \n",
    "\n",
    "radius = 500  # 500 meters\n",
    "bike_gdf['buffer'] = bike_gdf.geometry.buffer(radius)\n",
    "\n",
    "# Perform a spatial join to find stops within the buffer\n",
    "stops_near_bike = gpd.sjoin(stops_gdf, bike_gdf.set_geometry('buffer'), how='inner', predicate='within')\n"
   ]
  },
  {
   "cell_type": "code",
   "execution_count": 29,
   "metadata": {},
   "outputs": [
    {
     "data": {
      "text/plain": [
       "Index(['stop_id', 'geometry', 'index_right', 'tripduration', 'starttime',\n",
       "       'stoptime', 'start station id', 'start station name',\n",
       "       'start station latitude', 'start station longitude', 'end station id',\n",
       "       'end station name', 'end station latitude', 'end station longitude',\n",
       "       'bikeid', 'usertype', 'postal code', 'time', 'temp', 'dwpt', 'rhum',\n",
       "       'prcp', 'wdir', 'wspd', 'pres', 'coco', 'distance', 'speed',\n",
       "       'start_hour', 'start_dayofweek', 'start_month', 'end_hour',\n",
       "       'end_dayofweek', 'end_month', 'start_geometry', 'end_geometry'],\n",
       "      dtype='object')"
      ]
     },
     "execution_count": 29,
     "metadata": {},
     "output_type": "execute_result"
    }
   ],
   "source": [
    "stops_near_bike.columns"
   ]
  },
  {
   "cell_type": "code",
   "execution_count": null,
   "metadata": {},
   "outputs": [
    {
     "ename": "",
     "evalue": "",
     "output_type": "error",
     "traceback": [
      "\u001b[1;31mThe Kernel crashed while executing code in the current cell or a previous cell. \n",
      "\u001b[1;31mPlease review the code in the cell(s) to identify a possible cause of the failure. \n",
      "\u001b[1;31mClick <a href='https://aka.ms/vscodeJupyterKernelCrash'>here</a> for more info. \n",
      "\u001b[1;31mView Jupyter <a href='command:jupyter.viewOutput'>log</a> for further details."
     ]
    }
   ],
   "source": [
    "stops_near_bike = stops_near_bike[['stop_id', 'starttime', 'stoptime', 'bikeid']]"
   ]
  },
  {
   "cell_type": "code",
   "execution_count": null,
   "metadata": {},
   "outputs": [],
   "source": [
    "stops_near_bike['starttime'] = pd.to_datetime(stops_near_bike['starttime'])\n",
    "stop_times_with_dates['arrival_time'] = pd.to_datetime(stop_times_with_dates['arrival_time'])\n",
    "\n",
    "merged_data = stops_near_bike.merge(stop_times_with_dates, on='stop_id', how='inner')\n",
    "\n",
    "# Filter for entries where the transit arrival time is within 15 minutes before the bike trip's start time\n",
    "merged_data['time_diff'] = merged_data['starttime'] - merged_data['arrival_time']\n",
    "filtered_data = merged_data[(merged_data['time_diff'] > timedelta(0)) & (merged_data['time_diff'] <= timedelta(minutes=15))]\n",
    "\n",
    "counts = filtered_data.groupby('bikeid').size()\n",
    "bike_weather_data['transit_trips_before_start'] = bike_weather_data.index.map(counts).fillna(0).astype(int)\n"
   ]
  },
  {
   "cell_type": "code",
   "execution_count": null,
   "metadata": {},
   "outputs": [],
   "source": []
  }
 ],
 "metadata": {
  "kernelspec": {
   "display_name": "adbike_env",
   "language": "python",
   "name": "python3"
  },
  "language_info": {
   "codemirror_mode": {
    "name": "ipython",
    "version": 3
   },
   "file_extension": ".py",
   "mimetype": "text/x-python",
   "name": "python",
   "nbconvert_exporter": "python",
   "pygments_lexer": "ipython3",
   "version": "3.9.18"
  }
 },
 "nbformat": 4,
 "nbformat_minor": 2
}
