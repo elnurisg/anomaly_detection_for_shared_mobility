{
 "cells": [
  {
   "cell_type": "code",
   "execution_count": 55,
   "metadata": {},
   "outputs": [],
   "source": [
    "from geopy.distance import geodesic\n",
    "import partridge as pt\n",
    "import pandas as pd\n",
    "from meteostat import Point as MeteoPoint, Hourly as MeteoHourly\n",
    "from datetime import datetime\n",
    "import data_processing as dp\n",
    "import geopandas as gpd\n",
    "from shapely.geometry import Point as GeoPoint\n"
   ]
  },
  {
   "cell_type": "code",
   "execution_count": 56,
   "metadata": {},
   "outputs": [],
   "source": [
    "feed = pt.load_feed(\"gtfs\")\n",
    "\n",
    "# Inspect key tables\n",
    "stops = feed.stops\n",
    "stop_times = feed.stop_times\n",
    "routes = feed.routes\n",
    "trips = feed.trips\n"
   ]
  },
  {
   "cell_type": "code",
   "execution_count": 57,
   "metadata": {},
   "outputs": [
    {
     "data": {
      "text/html": [
       "<div>\n",
       "<style scoped>\n",
       "    .dataframe tbody tr th:only-of-type {\n",
       "        vertical-align: middle;\n",
       "    }\n",
       "\n",
       "    .dataframe tbody tr th {\n",
       "        vertical-align: top;\n",
       "    }\n",
       "\n",
       "    .dataframe thead th {\n",
       "        text-align: right;\n",
       "    }\n",
       "</style>\n",
       "<table border=\"1\" class=\"dataframe\">\n",
       "  <thead>\n",
       "    <tr style=\"text-align: right;\">\n",
       "      <th></th>\n",
       "      <th>feed_publisher_name</th>\n",
       "      <th>feed_publisher_url</th>\n",
       "      <th>feed_lang</th>\n",
       "      <th>feed_start_date</th>\n",
       "      <th>feed_end_date</th>\n",
       "      <th>feed_version</th>\n",
       "      <th>feed_contact_email</th>\n",
       "    </tr>\n",
       "  </thead>\n",
       "  <tbody>\n",
       "    <tr>\n",
       "      <th>0</th>\n",
       "      <td>MBTA</td>\n",
       "      <td>http://www.mbta.com</td>\n",
       "      <td>EN</td>\n",
       "      <td>2023-01-25</td>\n",
       "      <td>2023-03-11</td>\n",
       "      <td>Winter 2023, 2023-02-01T21:58:20+00:00, version D</td>\n",
       "      <td>developer@mbta.com</td>\n",
       "    </tr>\n",
       "  </tbody>\n",
       "</table>\n",
       "</div>"
      ],
      "text/plain": [
       "  feed_publisher_name   feed_publisher_url feed_lang feed_start_date  \\\n",
       "0                MBTA  http://www.mbta.com        EN      2023-01-25   \n",
       "\n",
       "  feed_end_date                                       feed_version  \\\n",
       "0    2023-03-11  Winter 2023, 2023-02-01T21:58:20+00:00, version D   \n",
       "\n",
       "   feed_contact_email  \n",
       "0  developer@mbta.com  "
      ]
     },
     "execution_count": 57,
     "metadata": {},
     "output_type": "execute_result"
    }
   ],
   "source": [
    "feed.feed_info"
   ]
  },
  {
   "cell_type": "code",
   "execution_count": 58,
   "metadata": {},
   "outputs": [
    {
     "name": "stdout",
     "output_type": "stream",
     "text": [
      "Stops Table:\n",
      "   stop_id stop_code                      stop_name stop_desc platform_code  \\\n",
      "0       1         1   Washington St opp Ruggles St       NaN           NaN   \n",
      "1      10        10  Theo Glynn Way @ Newmarket Sq       NaN           NaN   \n",
      "2   10000     10000       Tremont St opp Temple Pl       NaN           NaN   \n",
      "3   10003     10003       Albany St opp Randall St       NaN           NaN   \n",
      "4   10005     10005     Albany St opp E Concord St       NaN           NaN   \n",
      "\n",
      "  platform_name   stop_lat   stop_lon              zone_id stop_address  \\\n",
      "0           NaN  42.330957 -71.082754  ExpressBus-Downtown          NaN   \n",
      "1           NaN  42.330555 -71.068787             LocalBus          NaN   \n",
      "2           NaN  42.355692 -71.062911             LocalBus          NaN   \n",
      "3           NaN  42.331591 -71.076237             LocalBus          NaN   \n",
      "4           NaN  42.335017 -71.071280             LocalBus          NaN   \n",
      "\n",
      "                           stop_url level_id  location_type parent_station  \\\n",
      "0      https://www.mbta.com/stops/1      NaN              0            NaN   \n",
      "1     https://www.mbta.com/stops/10      NaN              0            NaN   \n",
      "2  https://www.mbta.com/stops/10000      NaN              0            NaN   \n",
      "3  https://www.mbta.com/stops/10003      NaN              0            NaN   \n",
      "4  https://www.mbta.com/stops/10005      NaN              0            NaN   \n",
      "\n",
      "   wheelchair_boarding municipality           on_street         at_street  \\\n",
      "0                    1       Boston   Washington Street    Ruggles Street   \n",
      "1                    1       Boston  Theodore Glynn Way  Newmarket Square   \n",
      "2                    1       Boston      Tremont Street      Temple Place   \n",
      "3                    1       Boston       Albany Street    Randall Street   \n",
      "4                    1       Boston       Albany Street               NaN   \n",
      "\n",
      "  vehicle_type  \n",
      "0            3  \n",
      "1            3  \n",
      "2            3  \n",
      "3            3  \n",
      "4            3  \n"
     ]
    }
   ],
   "source": [
    "print(\"Stops Table:\\n\", stops.head())\n"
   ]
  },
  {
   "cell_type": "code",
   "execution_count": 59,
   "metadata": {},
   "outputs": [
    {
     "name": "stderr",
     "output_type": "stream",
     "text": [
      "FutureWarning: 'H' is deprecated and will be removed in a future version, please use 'h' instead.\n"
     ]
    }
   ],
   "source": [
    "bike_data = pd.read_csv('data/boston/202301-bluebikes-tripdata.csv')\n",
    "boston = MeteoPoint(42.3601, -71.0589)  # Latitude and Longitude for Boston\n",
    "start = datetime(2023, 1, 1)\n",
    "end = datetime(2023, 1, 31)\n",
    "\n",
    "weather_data_hourly = MeteoHourly(boston, start, end)\n",
    "weather_data_hourly = weather_data_hourly.fetch()\n"
   ]
  },
  {
   "cell_type": "code",
   "execution_count": 60,
   "metadata": {},
   "outputs": [],
   "source": [
    "weather_data_hourly = weather_data_hourly.reset_index()\n",
    "bike_data['starttime'] = pd.to_datetime(bike_data['starttime'])\n",
    "weather_data_hourly['time'] = pd.to_datetime(weather_data_hourly['time'])\n",
    "\n",
    "bike_weather_data = pd.merge_asof(bike_data, weather_data_hourly, left_on='starttime', right_on='time', direction='nearest')\n"
   ]
  },
  {
   "cell_type": "code",
   "execution_count": 61,
   "metadata": {},
   "outputs": [],
   "source": [
    "bike_weather_data = bike_weather_data.drop(columns=['snow', 'wpgt', 'tsun'])\n",
    "bike_weather_data = dp.distance_feature(bike_weather_data)\n",
    "bike_weather_data = dp.speed_feature(bike_weather_data)\n",
    "bike_weather_data = dp.date_related_features(bike_weather_data)"
   ]
  },
  {
   "cell_type": "markdown",
   "metadata": {},
   "source": [
    "## Mass Transit data features"
   ]
  },
  {
   "cell_type": "markdown",
   "metadata": {},
   "source": [
    "### Frequencies feature"
   ]
  },
  {
   "cell_type": "code",
   "execution_count": 62,
   "metadata": {},
   "outputs": [],
   "source": [
    "# Create geometry columns for start and end stations\n",
    "bike_weather_data['start_geometry'] = bike_weather_data.apply(\n",
    "    lambda x: GeoPoint(x['start station longitude'], x['start station latitude']), axis=1\n",
    ")\n",
    "bike_weather_data['end_geometry'] = bike_weather_data.apply(\n",
    "    lambda x: GeoPoint(x['end station longitude'], x['end station latitude']), axis=1\n",
    ")\n"
   ]
  },
  {
   "cell_type": "code",
   "execution_count": 63,
   "metadata": {},
   "outputs": [],
   "source": [
    "# Convert bike_weather_data to a GeoDataFrame using start_geometry as the default geometry\n",
    "bike_gdf = gpd.GeoDataFrame(bike_weather_data, geometry='start_geometry')\n"
   ]
  },
  {
   "cell_type": "code",
   "execution_count": 64,
   "metadata": {},
   "outputs": [],
   "source": [
    "# Convert stops DataFrame to a GeoDataFrame\n",
    "stops['geometry'] = stops.apply(lambda x: GeoPoint(x['stop_lon'], x['stop_lat']), axis=1)\n",
    "stops_gdf = gpd.GeoDataFrame(stops, geometry='geometry')\n"
   ]
  },
  {
   "cell_type": "code",
   "execution_count": 65,
   "metadata": {},
   "outputs": [],
   "source": [
    "# Set the coordinate reference system (CRS) to WGS84 (EPSG:4326)\n",
    "bike_gdf.set_crs(epsg=4326, inplace=True)\n",
    "stops_gdf.set_crs(epsg=4326, inplace=True)\n",
    "\n",
    "# Convert CRS to a projection that allows distance calculations in meters (EPSG:3857)\n",
    "stops_gdf = stops_gdf.to_crs(epsg=3857)\n",
    "bike_gdf = bike_gdf.to_crs(epsg=3857)\n"
   ]
  },
  {
   "cell_type": "code",
   "execution_count": 66,
   "metadata": {},
   "outputs": [],
   "source": [
    "radius = 500  # Example radius in meters\n",
    "bike_gdf['buffer'] = bike_gdf.geometry.buffer(radius)\n",
    "# Spatial joins to count nearby stops\n",
    "start_nearby_counts = gpd.sjoin(stops_gdf, bike_gdf.set_geometry('buffer'), how='inner', predicate='within')\n",
    "\n",
    "# Set end_geometry as the active geometry\n",
    "bike_gdf.set_geometry('end_geometry', inplace=True) \n",
    "bike_gdf = bike_gdf.set_crs(epsg=4326, inplace=True).to_crs(epsg=3857)\n",
    "\n",
    "bike_gdf['buffer'] = bike_gdf.geometry.buffer(radius)\n",
    "end_nearby_counts = gpd.sjoin(stops_gdf, bike_gdf.set_geometry('buffer'), how='inner', predicate='within')\n"
   ]
  },
  {
   "cell_type": "code",
   "execution_count": 67,
   "metadata": {},
   "outputs": [],
   "source": [
    "# Count the number of nearby stops for each unique start and end station\n",
    "start_station_nearby_counts = start_nearby_counts.groupby('index_right').size()\n",
    "end_station_nearby_counts = end_nearby_counts.groupby('index_right').size()\n",
    "\n",
    "# Add the counts back to the original bike_weather_data\n",
    "bike_weather_data['start_station_nearby_stations'] = bike_weather_data.index.map(start_station_nearby_counts).fillna(0).astype(int)\n",
    "bike_weather_data['end_station_nearby_stations'] = bike_weather_data.index.map(end_station_nearby_counts).fillna(0).astype(int)\n"
   ]
  },
  {
   "cell_type": "code",
   "execution_count": 68,
   "metadata": {},
   "outputs": [
    {
     "name": "stdout",
     "output_type": "stream",
     "text": [
      "   start_station_nearby_stations  end_station_nearby_stations\n",
      "0                             16                            8\n",
      "1                             10                           16\n",
      "2                             10                           16\n",
      "3                              1                           12\n",
      "4                             12                           20\n"
     ]
    }
   ],
   "source": [
    "print(bike_weather_data[['start_station_nearby_stations', 'end_station_nearby_stations']].head())\n"
   ]
  },
  {
   "cell_type": "markdown",
   "metadata": {},
   "source": [
    "## Transit Frequency"
   ]
  },
  {
   "cell_type": "code",
   "execution_count": null,
   "metadata": {},
   "outputs": [],
   "source": [
    "def time_to_seconds(time_str):\n",
    "    \"\"\"Convert time in HH:MM:SS format to seconds since midnight.\"\"\"\n",
    "    time_obj = pd.to_datetime(time_str).time()\n",
    "    return time_obj.hour * 3600 + time_obj.minute * 60 + time_obj.second\n",
    "\n",
    "def calculate_service_frequency(nearby_stops_dict, bike_station_latitude, bike_station_longitude, stop_times, trip_time_seconds, time_window=1800):\n",
    "    # Retrieve precomputed nearby stops for the station\n",
    "    nearby_stop_ids = nearby_stops_dict.get((bike_station_latitude, bike_station_longitude), [])\n",
    "    \n",
    "    # Filter `stop_times` for relevant stop IDs and within the time window\n",
    "    relevant_stop_times = stop_times[\n",
    "        (stop_times['stop_id'].isin(nearby_stop_ids)) &\n",
    "        (abs(stop_times['arrival_time'] - trip_time_seconds) <= time_window)\n",
    "    ]\n",
    "    \n",
    "    # Return the count of relevant stop times\n",
    "    return relevant_stop_times.shape[0]"
   ]
  },
  {
   "cell_type": "code",
   "execution_count": null,
   "metadata": {},
   "outputs": [],
   "source": [
    "# Create a dictionary to store nearby stops for each unique bike station\n",
    "nearby_stops_dict = {}\n",
    "\n",
    "for _, station in bike_weather_data[['start station latitude', 'start station longitude']].drop_duplicates().iterrows():\n",
    "    station_coords = (station['start station latitude'], station['start station longitude'])\n",
    "    # Find nearby stops within the specified radius and store them\n",
    "    nearby_stops_dict[(station['start station latitude'], station['start station longitude'])] = stops[\n",
    "        stops.apply(lambda x: geodesic(station_coords, (x['stop_lat'], x['stop_lon'])).meters <= 500, axis=1)\n",
    "    ]['stop_id'].tolist()\n"
   ]
  },
  {
   "cell_type": "code",
   "execution_count": null,
   "metadata": {},
   "outputs": [],
   "source": [
    "# Convert starttime and stoptime to seconds since midnight\n",
    "bike_weather_data['start_trip_time'] = bike_weather_data['starttime'].apply(time_to_seconds)\n",
    "bike_weather_data['end_trip_time'] = bike_weather_data['stoptime'].apply(time_to_seconds)\n"
   ]
  },
  {
   "cell_type": "code",
   "execution_count": null,
   "metadata": {},
   "outputs": [],
   "source": [
    "# Applying the function to calculate frequency based on the new time format\n",
    "bike_weather_data['start_station_frequency'] = bike_weather_data.apply(\n",
    "    lambda x: calculate_service_frequency(\n",
    "        nearby_stops_dict, x['start station latitude'], x['start station longitude'], stop_times, x['start_trip_time']\n",
    "    ), axis=1\n",
    ")\n",
    "bike_weather_data['end_station_frequency'] = bike_weather_data.apply(\n",
    "    lambda x: calculate_service_frequency(\n",
    "        nearby_stops_dict, x['end station latitude'], x['end station longitude'], stop_times, x['end_trip_time']\n",
    "    ), axis=1\n",
    ")"
   ]
  }
 ],
 "metadata": {
  "kernelspec": {
   "display_name": "adbike_env",
   "language": "python",
   "name": "python3"
  },
  "language_info": {
   "codemirror_mode": {
    "name": "ipython",
    "version": 3
   },
   "file_extension": ".py",
   "mimetype": "text/x-python",
   "name": "python",
   "nbconvert_exporter": "python",
   "pygments_lexer": "ipython3",
   "version": "3.9.18"
  }
 },
 "nbformat": 4,
 "nbformat_minor": 2
}
