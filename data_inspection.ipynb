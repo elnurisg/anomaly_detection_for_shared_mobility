{
 "cells": [
  {
   "cell_type": "code",
   "execution_count": 63,
   "metadata": {},
   "outputs": [],
   "source": [
    "import pandas as pd\n",
    "from sklearn.ensemble import IsolationForest\n",
    "import matplotlib.pyplot as plt\n",
    "import numpy as np\n",
    "from sklearn.preprocessing import LabelEncoder\n",
    "from datetime import datetime\n",
    "from geopy.distance import geodesic\n",
    "from haversine import haversine, Unit"
   ]
  },
  {
   "cell_type": "code",
   "execution_count": 64,
   "metadata": {},
   "outputs": [],
   "source": [
    "bike_data = pd.read_csv('data/202301-bluebikes-tripdata.csv')"
   ]
  },
  {
   "cell_type": "code",
   "execution_count": 65,
   "metadata": {},
   "outputs": [
    {
     "data": {
      "text/html": [
       "<div>\n",
       "<style scoped>\n",
       "    .dataframe tbody tr th:only-of-type {\n",
       "        vertical-align: middle;\n",
       "    }\n",
       "\n",
       "    .dataframe tbody tr th {\n",
       "        vertical-align: top;\n",
       "    }\n",
       "\n",
       "    .dataframe thead th {\n",
       "        text-align: right;\n",
       "    }\n",
       "</style>\n",
       "<table border=\"1\" class=\"dataframe\">\n",
       "  <thead>\n",
       "    <tr style=\"text-align: right;\">\n",
       "      <th></th>\n",
       "      <th>tripduration</th>\n",
       "      <th>starttime</th>\n",
       "      <th>stoptime</th>\n",
       "      <th>start station id</th>\n",
       "      <th>start station name</th>\n",
       "      <th>start station latitude</th>\n",
       "      <th>start station longitude</th>\n",
       "      <th>end station id</th>\n",
       "      <th>end station name</th>\n",
       "      <th>end station latitude</th>\n",
       "      <th>end station longitude</th>\n",
       "      <th>bikeid</th>\n",
       "      <th>usertype</th>\n",
       "      <th>postal code</th>\n",
       "    </tr>\n",
       "  </thead>\n",
       "  <tbody>\n",
       "    <tr>\n",
       "      <th>0</th>\n",
       "      <td>250</td>\n",
       "      <td>2023-01-01 00:02:54.0800</td>\n",
       "      <td>2023-01-01 00:07:04.4100</td>\n",
       "      <td>36</td>\n",
       "      <td>Copley Square - Dartmouth St at Boylston St</td>\n",
       "      <td>42.349928</td>\n",
       "      <td>-71.077392</td>\n",
       "      <td>21</td>\n",
       "      <td>Prudential Center - 101 Huntington Ave</td>\n",
       "      <td>42.346520</td>\n",
       "      <td>-71.080658</td>\n",
       "      <td>4213</td>\n",
       "      <td>Subscriber</td>\n",
       "      <td>02115</td>\n",
       "    </tr>\n",
       "    <tr>\n",
       "      <th>1</th>\n",
       "      <td>489</td>\n",
       "      <td>2023-01-01 00:10:33.3100</td>\n",
       "      <td>2023-01-01 00:18:42.3690</td>\n",
       "      <td>372</td>\n",
       "      <td>Boylston St at Exeter St</td>\n",
       "      <td>42.349589</td>\n",
       "      <td>-71.079468</td>\n",
       "      <td>404</td>\n",
       "      <td>Mass Ave T Station</td>\n",
       "      <td>42.341356</td>\n",
       "      <td>-71.083370</td>\n",
       "      <td>3153</td>\n",
       "      <td>Customer</td>\n",
       "      <td>NaN</td>\n",
       "    </tr>\n",
       "    <tr>\n",
       "      <th>2</th>\n",
       "      <td>461</td>\n",
       "      <td>2023-01-01 00:10:49.9130</td>\n",
       "      <td>2023-01-01 00:18:31.1280</td>\n",
       "      <td>372</td>\n",
       "      <td>Boylston St at Exeter St</td>\n",
       "      <td>42.349589</td>\n",
       "      <td>-71.079468</td>\n",
       "      <td>404</td>\n",
       "      <td>Mass Ave T Station</td>\n",
       "      <td>42.341356</td>\n",
       "      <td>-71.083370</td>\n",
       "      <td>3431</td>\n",
       "      <td>Customer</td>\n",
       "      <td>02186</td>\n",
       "    </tr>\n",
       "    <tr>\n",
       "      <th>3</th>\n",
       "      <td>1065</td>\n",
       "      <td>2023-01-01 00:13:58.0640</td>\n",
       "      <td>2023-01-01 00:31:43.5090</td>\n",
       "      <td>58</td>\n",
       "      <td>Mugar Way at Beacon St</td>\n",
       "      <td>42.355536</td>\n",
       "      <td>-71.072869</td>\n",
       "      <td>345</td>\n",
       "      <td>Park Plaza at Charles St S.</td>\n",
       "      <td>42.351828</td>\n",
       "      <td>-71.067811</td>\n",
       "      <td>4398</td>\n",
       "      <td>Customer</td>\n",
       "      <td>NaN</td>\n",
       "    </tr>\n",
       "    <tr>\n",
       "      <th>4</th>\n",
       "      <td>601</td>\n",
       "      <td>2023-01-01 00:14:02.6130</td>\n",
       "      <td>2023-01-01 00:24:03.8950</td>\n",
       "      <td>50</td>\n",
       "      <td>Boylston St at Berkeley St</td>\n",
       "      <td>42.351142</td>\n",
       "      <td>-71.073292</td>\n",
       "      <td>374</td>\n",
       "      <td>Tremont St at Hamilton Pl</td>\n",
       "      <td>42.356683</td>\n",
       "      <td>-71.061666</td>\n",
       "      <td>7964</td>\n",
       "      <td>Subscriber</td>\n",
       "      <td>02138</td>\n",
       "    </tr>\n",
       "  </tbody>\n",
       "</table>\n",
       "</div>"
      ],
      "text/plain": [
       "   tripduration                 starttime                  stoptime  \\\n",
       "0           250  2023-01-01 00:02:54.0800  2023-01-01 00:07:04.4100   \n",
       "1           489  2023-01-01 00:10:33.3100  2023-01-01 00:18:42.3690   \n",
       "2           461  2023-01-01 00:10:49.9130  2023-01-01 00:18:31.1280   \n",
       "3          1065  2023-01-01 00:13:58.0640  2023-01-01 00:31:43.5090   \n",
       "4           601  2023-01-01 00:14:02.6130  2023-01-01 00:24:03.8950   \n",
       "\n",
       "   start station id                           start station name  \\\n",
       "0                36  Copley Square - Dartmouth St at Boylston St   \n",
       "1               372                     Boylston St at Exeter St   \n",
       "2               372                     Boylston St at Exeter St   \n",
       "3                58                       Mugar Way at Beacon St   \n",
       "4                50                   Boylston St at Berkeley St   \n",
       "\n",
       "   start station latitude  start station longitude  end station id  \\\n",
       "0               42.349928               -71.077392              21   \n",
       "1               42.349589               -71.079468             404   \n",
       "2               42.349589               -71.079468             404   \n",
       "3               42.355536               -71.072869             345   \n",
       "4               42.351142               -71.073292             374   \n",
       "\n",
       "                         end station name  end station latitude  \\\n",
       "0  Prudential Center - 101 Huntington Ave             42.346520   \n",
       "1                      Mass Ave T Station             42.341356   \n",
       "2                      Mass Ave T Station             42.341356   \n",
       "3             Park Plaza at Charles St S.             42.351828   \n",
       "4               Tremont St at Hamilton Pl             42.356683   \n",
       "\n",
       "   end station longitude  bikeid    usertype postal code  \n",
       "0             -71.080658    4213  Subscriber       02115  \n",
       "1             -71.083370    3153    Customer         NaN  \n",
       "2             -71.083370    3431    Customer       02186  \n",
       "3             -71.067811    4398    Customer         NaN  \n",
       "4             -71.061666    7964  Subscriber       02138  "
      ]
     },
     "execution_count": 65,
     "metadata": {},
     "output_type": "execute_result"
    }
   ],
   "source": [
    "bike_data.head()"
   ]
  },
  {
   "cell_type": "code",
   "execution_count": 66,
   "metadata": {},
   "outputs": [
    {
     "data": {
      "text/plain": [
       "(140340, 14)"
      ]
     },
     "execution_count": 66,
     "metadata": {},
     "output_type": "execute_result"
    }
   ],
   "source": [
    "bike_data.shape"
   ]
  },
  {
   "cell_type": "code",
   "execution_count": 67,
   "metadata": {},
   "outputs": [
    {
     "name": "stdout",
     "output_type": "stream",
     "text": [
      "<class 'pandas.core.frame.DataFrame'>\n",
      "RangeIndex: 140340 entries, 0 to 140339\n",
      "Data columns (total 14 columns):\n",
      " #   Column                   Non-Null Count   Dtype  \n",
      "---  ------                   --------------   -----  \n",
      " 0   tripduration             140340 non-null  int64  \n",
      " 1   starttime                140340 non-null  object \n",
      " 2   stoptime                 140340 non-null  object \n",
      " 3   start station id         140340 non-null  int64  \n",
      " 4   start station name       140340 non-null  object \n",
      " 5   start station latitude   140340 non-null  float64\n",
      " 6   start station longitude  140340 non-null  float64\n",
      " 7   end station id           140340 non-null  int64  \n",
      " 8   end station name         140340 non-null  object \n",
      " 9   end station latitude     140340 non-null  float64\n",
      " 10  end station longitude    140340 non-null  float64\n",
      " 11  bikeid                   140340 non-null  int64  \n",
      " 12  usertype                 140340 non-null  object \n",
      " 13  postal code              131990 non-null  object \n",
      "dtypes: float64(4), int64(4), object(6)\n",
      "memory usage: 15.0+ MB\n"
     ]
    }
   ],
   "source": [
    "bike_data.info()"
   ]
  },
  {
   "cell_type": "code",
   "execution_count": 68,
   "metadata": {},
   "outputs": [
    {
     "data": {
      "text/html": [
       "<div>\n",
       "<style scoped>\n",
       "    .dataframe tbody tr th:only-of-type {\n",
       "        vertical-align: middle;\n",
       "    }\n",
       "\n",
       "    .dataframe tbody tr th {\n",
       "        vertical-align: top;\n",
       "    }\n",
       "\n",
       "    .dataframe thead th {\n",
       "        text-align: right;\n",
       "    }\n",
       "</style>\n",
       "<table border=\"1\" class=\"dataframe\">\n",
       "  <thead>\n",
       "    <tr style=\"text-align: right;\">\n",
       "      <th></th>\n",
       "      <th>tripduration</th>\n",
       "      <th>start station id</th>\n",
       "      <th>start station latitude</th>\n",
       "      <th>start station longitude</th>\n",
       "      <th>end station id</th>\n",
       "      <th>end station latitude</th>\n",
       "      <th>end station longitude</th>\n",
       "      <th>bikeid</th>\n",
       "    </tr>\n",
       "  </thead>\n",
       "  <tbody>\n",
       "    <tr>\n",
       "      <th>count</th>\n",
       "      <td>1.403400e+05</td>\n",
       "      <td>140340.000000</td>\n",
       "      <td>140340.000000</td>\n",
       "      <td>140340.000000</td>\n",
       "      <td>140340.00000</td>\n",
       "      <td>140340.000000</td>\n",
       "      <td>140340.000000</td>\n",
       "      <td>140340.000000</td>\n",
       "    </tr>\n",
       "    <tr>\n",
       "      <th>mean</th>\n",
       "      <td>1.260807e+03</td>\n",
       "      <td>206.073571</td>\n",
       "      <td>42.359247</td>\n",
       "      <td>-71.091262</td>\n",
       "      <td>204.45600</td>\n",
       "      <td>42.359176</td>\n",
       "      <td>-71.090774</td>\n",
       "      <td>5785.957076</td>\n",
       "    </tr>\n",
       "    <tr>\n",
       "      <th>std</th>\n",
       "      <td>1.935545e+04</td>\n",
       "      <td>174.294858</td>\n",
       "      <td>0.018060</td>\n",
       "      <td>0.026352</td>\n",
       "      <td>174.21936</td>\n",
       "      <td>0.017997</td>\n",
       "      <td>0.026327</td>\n",
       "      <td>2001.094702</td>\n",
       "    </tr>\n",
       "    <tr>\n",
       "      <th>min</th>\n",
       "      <td>6.100000e+01</td>\n",
       "      <td>3.000000</td>\n",
       "      <td>42.255600</td>\n",
       "      <td>-71.247759</td>\n",
       "      <td>1.00000</td>\n",
       "      <td>42.255600</td>\n",
       "      <td>-71.247759</td>\n",
       "      <td>2007.000000</td>\n",
       "    </tr>\n",
       "    <tr>\n",
       "      <th>25%</th>\n",
       "      <td>3.860000e+02</td>\n",
       "      <td>67.000000</td>\n",
       "      <td>42.348545</td>\n",
       "      <td>-71.107287</td>\n",
       "      <td>67.00000</td>\n",
       "      <td>42.348706</td>\n",
       "      <td>-71.106500</td>\n",
       "      <td>4063.000000</td>\n",
       "    </tr>\n",
       "    <tr>\n",
       "      <th>50%</th>\n",
       "      <td>6.170000e+02</td>\n",
       "      <td>142.000000</td>\n",
       "      <td>42.359825</td>\n",
       "      <td>-71.093198</td>\n",
       "      <td>139.00000</td>\n",
       "      <td>42.359573</td>\n",
       "      <td>-71.091567</td>\n",
       "      <td>5964.000000</td>\n",
       "    </tr>\n",
       "    <tr>\n",
       "      <th>75%</th>\n",
       "      <td>1.001000e+03</td>\n",
       "      <td>365.000000</td>\n",
       "      <td>42.368952</td>\n",
       "      <td>-71.073292</td>\n",
       "      <td>364.00000</td>\n",
       "      <td>42.368605</td>\n",
       "      <td>-71.072869</td>\n",
       "      <td>7704.000000</td>\n",
       "    </tr>\n",
       "    <tr>\n",
       "      <th>max</th>\n",
       "      <td>2.296250e+06</td>\n",
       "      <td>591.000000</td>\n",
       "      <td>42.529900</td>\n",
       "      <td>-70.886930</td>\n",
       "      <td>591.00000</td>\n",
       "      <td>42.529900</td>\n",
       "      <td>-70.886930</td>\n",
       "      <td>8708.000000</td>\n",
       "    </tr>\n",
       "  </tbody>\n",
       "</table>\n",
       "</div>"
      ],
      "text/plain": [
       "       tripduration  start station id  start station latitude  \\\n",
       "count  1.403400e+05     140340.000000           140340.000000   \n",
       "mean   1.260807e+03        206.073571               42.359247   \n",
       "std    1.935545e+04        174.294858                0.018060   \n",
       "min    6.100000e+01          3.000000               42.255600   \n",
       "25%    3.860000e+02         67.000000               42.348545   \n",
       "50%    6.170000e+02        142.000000               42.359825   \n",
       "75%    1.001000e+03        365.000000               42.368952   \n",
       "max    2.296250e+06        591.000000               42.529900   \n",
       "\n",
       "       start station longitude  end station id  end station latitude  \\\n",
       "count            140340.000000    140340.00000         140340.000000   \n",
       "mean                -71.091262       204.45600             42.359176   \n",
       "std                   0.026352       174.21936              0.017997   \n",
       "min                 -71.247759         1.00000             42.255600   \n",
       "25%                 -71.107287        67.00000             42.348706   \n",
       "50%                 -71.093198       139.00000             42.359573   \n",
       "75%                 -71.073292       364.00000             42.368605   \n",
       "max                 -70.886930       591.00000             42.529900   \n",
       "\n",
       "       end station longitude         bikeid  \n",
       "count          140340.000000  140340.000000  \n",
       "mean              -71.090774    5785.957076  \n",
       "std                 0.026327    2001.094702  \n",
       "min               -71.247759    2007.000000  \n",
       "25%               -71.106500    4063.000000  \n",
       "50%               -71.091567    5964.000000  \n",
       "75%               -71.072869    7704.000000  \n",
       "max               -70.886930    8708.000000  "
      ]
     },
     "execution_count": 68,
     "metadata": {},
     "output_type": "execute_result"
    }
   ],
   "source": [
    "bike_data.describe()"
   ]
  },
  {
   "cell_type": "markdown",
   "metadata": {},
   "source": [
    "# Feature Engineering"
   ]
  },
  {
   "cell_type": "code",
   "execution_count": 69,
   "metadata": {},
   "outputs": [
    {
     "name": "stdout",
     "output_type": "stream",
     "text": [
      "start station latitude     0\n",
      "start station longitude    0\n",
      "end station latitude       0\n",
      "end station longitude      0\n",
      "dtype: int64\n"
     ]
    }
   ],
   "source": [
    "# Check for NaN values in latitude and longitude columns\n",
    "print(bike_data[['start station latitude', 'start station longitude', 'end station latitude', 'end station longitude']].isnull().sum())\n"
   ]
  },
  {
   "cell_type": "markdown",
   "metadata": {},
   "source": [
    "## Create duration types (short, average, long, extra long)"
   ]
  },
  {
   "cell_type": "code",
   "execution_count": 70,
   "metadata": {},
   "outputs": [],
   "source": [
    "bike_data['tripduration'] = np.where(bike_data['tripduration'] < 3600, \"short_trip\", np.where(\n",
    "    (bike_data['tripduration'] > 3600) & (bike_data['tripduration'] < 3600 * 24), \"average_trip\", np.where(\n",
    "    (bike_data['tripduration'] > 3600 * 24) & (bike_data['tripduration'] < 3600 * 24 * 30), \"long_trip\",\n",
    "        \"extra_long_trip\")))"
   ]
  },
  {
   "cell_type": "markdown",
   "metadata": {},
   "source": [
    "## Calculate Distance (in kilometers) "
   ]
  },
  {
   "cell_type": "code",
   "execution_count": 71,
   "metadata": {},
   "outputs": [],
   "source": [
    "def calculate_distances_vectorized(df):\n",
    "    start_coords = list(zip(df['start station latitude'], df['start station longitude']))\n",
    "    end_coords = list(zip(df['end station latitude'], df['end station longitude']))\n",
    "    return np.array([haversine(start, end, unit=Unit.KILOMETERS) for start, end in zip(start_coords, end_coords)])\n"
   ]
  },
  {
   "cell_type": "code",
   "execution_count": 72,
   "metadata": {},
   "outputs": [],
   "source": [
    "bike_data['distance'] = calculate_distances_vectorized(bike_data)"
   ]
  },
  {
   "cell_type": "markdown",
   "metadata": {},
   "source": [
    "## Encode the 'member_casual', 'rideable_type', 'duration' column"
   ]
  },
  {
   "cell_type": "code",
   "execution_count": 73,
   "metadata": {},
   "outputs": [],
   "source": [
    "label_encoder = LabelEncoder()\n",
    "bike_data['user_type_encoded'] = label_encoder.fit_transform(bike_data['usertype'])\n",
    "# bike_data['rideable_type_encoded'] = label_encoder.fit_transform(bike_data['rideable_type'])\n",
    "bike_data['duration_type_encoded'] = label_encoder.fit_transform(bike_data['tripduration'])"
   ]
  },
  {
   "cell_type": "markdown",
   "metadata": {},
   "source": [
    "## Select relevant features"
   ]
  },
  {
   "cell_type": "code",
   "execution_count": 74,
   "metadata": {},
   "outputs": [],
   "source": [
    "# Select relevant features for anomaly detection\n",
    "# features = ['duration', 'distance', 'member_casual_encoded']\n",
    "# features = ['duration_type_encoded', 'distance', 'member_casual_encoded', 'rideable_type_encoded']\n",
    "features = ['duration_type_encoded', 'distance', 'user_type_encoded']\n",
    "features = ['duration_type_encoded']\n",
    "X = bike_data[features]\n"
   ]
  },
  {
   "cell_type": "markdown",
   "metadata": {},
   "source": [
    "# Data Analysis"
   ]
  },
  {
   "cell_type": "code",
   "execution_count": 75,
   "metadata": {},
   "outputs": [
    {
     "data": {
      "image/png": "[encoded data removed]",
      "text/plain": [
       "<Figure size 1000x600 with 1 Axes>"
      ]
     },
     "metadata": {},
     "output_type": "display_data"
    }
   ],
   "source": [
    "# Count the number of trips in each category\n",
    "trip_counts = bike_data['tripduration'].value_counts()\n",
    "\n",
    "# Plotting\n",
    "plt.figure(figsize=(10, 6))\n",
    "trip_counts.plot(kind='bar', color=['skyblue', 'lightgreen', 'salmon', 'gold'])\n",
    "plt.title('Number of Trips by Duration Category')\n",
    "plt.xlabel('Trip Duration Category')\n",
    "plt.ylabel('Number of Trips')\n",
    "plt.xticks(rotation=45)\n",
    "plt.grid(axis='y')\n",
    "\n",
    "# Show the plot\n",
    "plt.tight_layout()\n",
    "plt.show()"
   ]
  },
  {
   "cell_type": "code",
   "execution_count": 76,
   "metadata": {},
   "outputs": [
    {
     "data": {
      "text/plain": [
       "tripduration\n",
       "short_trip      138477\n",
       "average_trip      1735\n",
       "long_trip          128\n",
       "Name: count, dtype: int64"
      ]
     },
     "execution_count": 76,
     "metadata": {},
     "output_type": "execute_result"
    }
   ],
   "source": [
    "trip_counts"
   ]
  },
  {
   "cell_type": "code",
   "execution_count": 77,
   "metadata": {},
   "outputs": [],
   "source": [
    "contamination = trip_counts['long_trip'] / bike_data.shape[0]"
   ]
  },
  {
   "cell_type": "code",
   "execution_count": 78,
   "metadata": {},
   "outputs": [
    {
     "data": {
      "text/plain": [
       "np.float64(0.0009120706854781245)"
      ]
     },
     "execution_count": 78,
     "metadata": {},
     "output_type": "execute_result"
    }
   ],
   "source": [
    "contamination"
   ]
  },
  {
   "cell_type": "markdown",
   "metadata": {},
   "source": [
    "# Train Isolation Forest"
   ]
  },
  {
   "cell_type": "code",
   "execution_count": 79,
   "metadata": {},
   "outputs": [],
   "source": [
    "# Initialize the Isolation Forest model\n",
    "iso_forest = IsolationForest(contamination=contamination, n_estimators=100, max_samples=0.6, max_features=0.9) \n",
    "\n",
    "# Fit the model to the data\n",
    "bike_data['anomaly'] = iso_forest.fit_predict(X)\n"
   ]
  },
  {
   "cell_type": "markdown",
   "metadata": {},
   "source": [
    "# Plot the Anomalies"
   ]
  },
  {
   "cell_type": "code",
   "execution_count": 80,
   "metadata": {},
   "outputs": [
    {
     "data": {
      "image/png": "[encoded data removed]",
      "text/plain": [
       "<Figure size 640x480 with 1 Axes>"
      ]
     },
     "metadata": {},
     "output_type": "display_data"
    },
    {
     "name": "stdout",
     "output_type": "stream",
     "text": [
      "     tripduration                 starttime                  stoptime  \\\n",
      "332     long_trip  2023-01-01 02:51:52.3060  2023-01-02 11:32:45.8290   \n",
      "512     long_trip  2023-01-01 08:26:59.3910  2023-01-04 10:35:25.7010   \n",
      "580     long_trip  2023-01-01 09:24:20.9730  2023-01-04 11:34:40.7390   \n",
      "788     long_trip  2023-01-01 10:57:25.7460  2023-01-02 12:28:50.1950   \n",
      "1629    long_trip  2023-01-01 14:05:59.3760  2023-01-06 20:23:18.3270   \n",
      "\n",
      "      start station id                                 start station name  \\\n",
      "332                 55                   Boylston St at Massachusetts Ave   \n",
      "512                138  Newmarket Square T Stop - Massachusetts Ave at...   \n",
      "580                218  Watermark Seaport - Boston Wharf Rd at Seaport...   \n",
      "788                 68              Central Square at Mass Ave / Essex St   \n",
      "1629               387                                        7 Acre Park   \n",
      "\n",
      "      start station latitude  start station longitude  end station id  \\\n",
      "332                42.347406               -71.086784             157   \n",
      "512                42.326599               -71.066498             228   \n",
      "580                42.351586               -71.045693             163   \n",
      "788                42.365070               -71.103100             446   \n",
      "1629               42.411432               -71.068233             387   \n",
      "\n",
      "                end station name  end station latitude  end station longitude  \\\n",
      "332   Seaport Blvd at Sleeper St             42.353178             -71.048174   \n",
      "512           One Memorial Drive             42.361619             -71.080436   \n",
      "580                The Lawn on D             42.344792             -71.044024   \n",
      "788        700 Commonwealth Ave.             42.349609             -71.103915   \n",
      "1629                 7 Acre Park             42.411432             -71.068233   \n",
      "\n",
      "      bikeid  usertype postal code  distance  user_type_encoded  \\\n",
      "332     5651  Customer       03229  3.237186                  0   \n",
      "512     3736  Customer       02190  4.059064                  0   \n",
      "580     6611  Customer         NaN  0.767803                  0   \n",
      "788     8142  Customer       60618  1.720441                  0   \n",
      "1629    2009  Customer       02148  0.000000                  0   \n",
      "\n",
      "      duration_type_encoded  anomaly  \n",
      "332                       1       -1  \n",
      "512                       1       -1  \n",
      "580                       1       -1  \n",
      "788                       1       -1  \n",
      "1629                      1       -1  \n"
     ]
    }
   ],
   "source": [
    "# Visualize the anomalies (1 = normal, -1 = anomaly)\n",
    "plt.scatter(bike_data['tripduration'], bike_data['distance'], c=bike_data['anomaly'], cmap='coolwarm')\n",
    "plt.xlabel('Duration (minutes)')\n",
    "plt.ylabel('Distance (km)')\n",
    "plt.title('Anomaly Detection in Bike Data')\n",
    "plt.show()\n",
    "\n",
    "# Print detected anomalies\n",
    "anomalies = bike_data[bike_data['anomaly'] == -1]\n",
    "print(anomalies.head())"
   ]
  },
  {
   "cell_type": "code",
   "execution_count": 81,
   "metadata": {},
   "outputs": [
    {
     "data": {
      "text/plain": [
       "(128, 18)"
      ]
     },
     "execution_count": 81,
     "metadata": {},
     "output_type": "execute_result"
    }
   ],
   "source": [
    "anomalies.shape"
   ]
  },
  {
   "cell_type": "code",
   "execution_count": null,
   "metadata": {},
   "outputs": [],
   "source": []
  }
 ],
 "metadata": {
  "kernelspec": {
   "display_name": "adbike_env",
   "language": "python",
   "name": "python3"
  },
  "language_info": {
   "codemirror_mode": {
    "name": "ipython",
    "version": 3
   },
   "file_extension": ".py",
   "mimetype": "text/x-python",
   "name": "python",
   "nbconvert_exporter": "python",
   "pygments_lexer": "ipython3",
   "version": "3.9.18"
  }
 },
 "nbformat": 4,
 "nbformat_minor": 2
}
