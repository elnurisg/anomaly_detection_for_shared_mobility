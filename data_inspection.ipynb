{
 "cells": [
  {
   "cell_type": "code",
   "execution_count": 55,
   "metadata": {},
   "outputs": [],
   "source": [
    "import pandas as pd\n",
    "from sklearn.ensemble import IsolationForest\n",
    "import matplotlib.pyplot as plt\n",
    "import numpy as np\n",
    "from sklearn.preprocessing import LabelEncoder\n",
    "from datetime import datetime\n",
    "from geopy.distance import geodesic\n",
    "from haversine import haversine, Unit"
   ]
  },
  {
   "cell_type": "code",
   "execution_count": 56,
   "metadata": {},
   "outputs": [
    {
     "name": "stderr",
     "output_type": "stream",
     "text": [
      "/var/folders/8c/3n532t214sl7q0wy9wf_qks00000gn/T/ipykernel_1222/3675483451.py:1: DtypeWarning: Columns (5,7) have mixed types. Specify dtype option on import or set low_memory=False.\n",
      "  bike_data = pd.read_csv('data/202401-citibike-tripdata.csv')\n"
     ]
    }
   ],
   "source": [
    "bike_data = pd.read_csv('data/202401-citibike-tripdata.csv')"
   ]
  },
  {
   "cell_type": "code",
   "execution_count": 57,
   "metadata": {},
   "outputs": [
    {
     "data": {
      "text/html": [
       "<div>\n",
       "<style scoped>\n",
       "    .dataframe tbody tr th:only-of-type {\n",
       "        vertical-align: middle;\n",
       "    }\n",
       "\n",
       "    .dataframe tbody tr th {\n",
       "        vertical-align: top;\n",
       "    }\n",
       "\n",
       "    .dataframe thead th {\n",
       "        text-align: right;\n",
       "    }\n",
       "</style>\n",
       "<table border=\"1\" class=\"dataframe\">\n",
       "  <thead>\n",
       "    <tr style=\"text-align: right;\">\n",
       "      <th></th>\n",
       "      <th>ride_id</th>\n",
       "      <th>rideable_type</th>\n",
       "      <th>started_at</th>\n",
       "      <th>ended_at</th>\n",
       "      <th>start_station_name</th>\n",
       "      <th>start_station_id</th>\n",
       "      <th>end_station_name</th>\n",
       "      <th>end_station_id</th>\n",
       "      <th>start_lat</th>\n",
       "      <th>start_lng</th>\n",
       "      <th>end_lat</th>\n",
       "      <th>end_lng</th>\n",
       "      <th>member_casual</th>\n",
       "    </tr>\n",
       "  </thead>\n",
       "  <tbody>\n",
       "    <tr>\n",
       "      <th>0</th>\n",
       "      <td>5078F3D302000BD2</td>\n",
       "      <td>electric_bike</td>\n",
       "      <td>2024-01-22 18:43:19.012</td>\n",
       "      <td>2024-01-22 18:48:10.708</td>\n",
       "      <td>Frederick Douglass Blvd &amp; W 145 St</td>\n",
       "      <td>7954.12</td>\n",
       "      <td>St Nicholas Ave &amp; W 126 St</td>\n",
       "      <td>7756.10</td>\n",
       "      <td>40.823072</td>\n",
       "      <td>-73.941738</td>\n",
       "      <td>40.811432</td>\n",
       "      <td>-73.951878</td>\n",
       "      <td>member</td>\n",
       "    </tr>\n",
       "    <tr>\n",
       "      <th>1</th>\n",
       "      <td>814337105D37302A</td>\n",
       "      <td>electric_bike</td>\n",
       "      <td>2024-01-11 19:19:18.721</td>\n",
       "      <td>2024-01-11 19:47:36.007</td>\n",
       "      <td>W 54 St &amp; 6 Ave</td>\n",
       "      <td>6771.13</td>\n",
       "      <td>E 74 St &amp; 1 Ave</td>\n",
       "      <td>6953.08</td>\n",
       "      <td>40.761822</td>\n",
       "      <td>-73.977036</td>\n",
       "      <td>40.768974</td>\n",
       "      <td>-73.954823</td>\n",
       "      <td>member</td>\n",
       "    </tr>\n",
       "    <tr>\n",
       "      <th>2</th>\n",
       "      <td>A33A920E2B10710C</td>\n",
       "      <td>electric_bike</td>\n",
       "      <td>2024-01-30 19:17:41.693</td>\n",
       "      <td>2024-01-30 19:32:49.857</td>\n",
       "      <td>E 11 St &amp; Ave B</td>\n",
       "      <td>5659.11</td>\n",
       "      <td>W 10 St &amp; Washington St</td>\n",
       "      <td>5847.06</td>\n",
       "      <td>40.727592</td>\n",
       "      <td>-73.979751</td>\n",
       "      <td>40.733424</td>\n",
       "      <td>-74.008515</td>\n",
       "      <td>casual</td>\n",
       "    </tr>\n",
       "    <tr>\n",
       "      <th>3</th>\n",
       "      <td>A3A5FC0DD7D34D74</td>\n",
       "      <td>electric_bike</td>\n",
       "      <td>2024-01-27 11:27:01.759</td>\n",
       "      <td>2024-01-27 11:38:01.213</td>\n",
       "      <td>W 54 St &amp; 6 Ave</td>\n",
       "      <td>6771.13</td>\n",
       "      <td>E 74 St &amp; 1 Ave</td>\n",
       "      <td>6953.08</td>\n",
       "      <td>40.761779</td>\n",
       "      <td>-73.977144</td>\n",
       "      <td>40.768974</td>\n",
       "      <td>-73.954823</td>\n",
       "      <td>member</td>\n",
       "    </tr>\n",
       "    <tr>\n",
       "      <th>4</th>\n",
       "      <td>6F96728ECEFBDAA4</td>\n",
       "      <td>electric_bike</td>\n",
       "      <td>2024-01-16 15:15:41.000</td>\n",
       "      <td>2024-01-16 15:29:26.156</td>\n",
       "      <td>Madison Ave &amp; E 99 St</td>\n",
       "      <td>7443.01</td>\n",
       "      <td>E 74 St &amp; 1 Ave</td>\n",
       "      <td>6953.08</td>\n",
       "      <td>40.789808</td>\n",
       "      <td>-73.952214</td>\n",
       "      <td>40.768974</td>\n",
       "      <td>-73.954823</td>\n",
       "      <td>member</td>\n",
       "    </tr>\n",
       "  </tbody>\n",
       "</table>\n",
       "</div>"
      ],
      "text/plain": [
       "            ride_id  rideable_type               started_at  \\\n",
       "0  5078F3D302000BD2  electric_bike  2024-01-22 18:43:19.012   \n",
       "1  814337105D37302A  electric_bike  2024-01-11 19:19:18.721   \n",
       "2  A33A920E2B10710C  electric_bike  2024-01-30 19:17:41.693   \n",
       "3  A3A5FC0DD7D34D74  electric_bike  2024-01-27 11:27:01.759   \n",
       "4  6F96728ECEFBDAA4  electric_bike  2024-01-16 15:15:41.000   \n",
       "\n",
       "                  ended_at                  start_station_name  \\\n",
       "0  2024-01-22 18:48:10.708  Frederick Douglass Blvd & W 145 St   \n",
       "1  2024-01-11 19:47:36.007                     W 54 St & 6 Ave   \n",
       "2  2024-01-30 19:32:49.857                     E 11 St & Ave B   \n",
       "3  2024-01-27 11:38:01.213                     W 54 St & 6 Ave   \n",
       "4  2024-01-16 15:29:26.156               Madison Ave & E 99 St   \n",
       "\n",
       "  start_station_id            end_station_name end_station_id  start_lat  \\\n",
       "0          7954.12  St Nicholas Ave & W 126 St        7756.10  40.823072   \n",
       "1          6771.13             E 74 St & 1 Ave        6953.08  40.761822   \n",
       "2          5659.11     W 10 St & Washington St        5847.06  40.727592   \n",
       "3          6771.13             E 74 St & 1 Ave        6953.08  40.761779   \n",
       "4          7443.01             E 74 St & 1 Ave        6953.08  40.789808   \n",
       "\n",
       "   start_lng    end_lat    end_lng member_casual  \n",
       "0 -73.941738  40.811432 -73.951878        member  \n",
       "1 -73.977036  40.768974 -73.954823        member  \n",
       "2 -73.979751  40.733424 -74.008515        casual  \n",
       "3 -73.977144  40.768974 -73.954823        member  \n",
       "4 -73.952214  40.768974 -73.954823        member  "
      ]
     },
     "execution_count": 57,
     "metadata": {},
     "output_type": "execute_result"
    }
   ],
   "source": [
    "bike_data.head()"
   ]
  },
  {
   "cell_type": "code",
   "execution_count": 58,
   "metadata": {},
   "outputs": [
    {
     "data": {
      "text/plain": [
       "(1888085, 13)"
      ]
     },
     "execution_count": 58,
     "metadata": {},
     "output_type": "execute_result"
    }
   ],
   "source": [
    "bike_data.shape"
   ]
  },
  {
   "cell_type": "code",
   "execution_count": 59,
   "metadata": {},
   "outputs": [
    {
     "name": "stdout",
     "output_type": "stream",
     "text": [
      "<class 'pandas.core.frame.DataFrame'>\n",
      "RangeIndex: 1888085 entries, 0 to 1888084\n",
      "Data columns (total 13 columns):\n",
      " #   Column              Dtype  \n",
      "---  ------              -----  \n",
      " 0   ride_id             object \n",
      " 1   rideable_type       object \n",
      " 2   started_at          object \n",
      " 3   ended_at            object \n",
      " 4   start_station_name  object \n",
      " 5   start_station_id    object \n",
      " 6   end_station_name    object \n",
      " 7   end_station_id      object \n",
      " 8   start_lat           float64\n",
      " 9   start_lng           float64\n",
      " 10  end_lat             float64\n",
      " 11  end_lng             float64\n",
      " 12  member_casual       object \n",
      "dtypes: float64(4), object(9)\n",
      "memory usage: 187.3+ MB\n"
     ]
    }
   ],
   "source": [
    "bike_data.info()"
   ]
  },
  {
   "cell_type": "code",
   "execution_count": 60,
   "metadata": {},
   "outputs": [
    {
     "data": {
      "text/html": [
       "<div>\n",
       "<style scoped>\n",
       "    .dataframe tbody tr th:only-of-type {\n",
       "        vertical-align: middle;\n",
       "    }\n",
       "\n",
       "    .dataframe tbody tr th {\n",
       "        vertical-align: top;\n",
       "    }\n",
       "\n",
       "    .dataframe thead th {\n",
       "        text-align: right;\n",
       "    }\n",
       "</style>\n",
       "<table border=\"1\" class=\"dataframe\">\n",
       "  <thead>\n",
       "    <tr style=\"text-align: right;\">\n",
       "      <th></th>\n",
       "      <th>start_lat</th>\n",
       "      <th>start_lng</th>\n",
       "      <th>end_lat</th>\n",
       "      <th>end_lng</th>\n",
       "    </tr>\n",
       "  </thead>\n",
       "  <tbody>\n",
       "    <tr>\n",
       "      <th>count</th>\n",
       "      <td>1.888085e+06</td>\n",
       "      <td>1.888085e+06</td>\n",
       "      <td>1.887534e+06</td>\n",
       "      <td>1.887534e+06</td>\n",
       "    </tr>\n",
       "    <tr>\n",
       "      <th>mean</th>\n",
       "      <td>4.073898e+01</td>\n",
       "      <td>-7.397188e+01</td>\n",
       "      <td>4.073888e+01</td>\n",
       "      <td>-7.397208e+01</td>\n",
       "    </tr>\n",
       "    <tr>\n",
       "      <th>std</th>\n",
       "      <td>4.003527e-02</td>\n",
       "      <td>2.818343e-02</td>\n",
       "      <td>3.990145e-02</td>\n",
       "      <td>2.816227e-02</td>\n",
       "    </tr>\n",
       "    <tr>\n",
       "      <th>min</th>\n",
       "      <td>4.056315e+01</td>\n",
       "      <td>-7.402699e+01</td>\n",
       "      <td>4.058000e+01</td>\n",
       "      <td>-7.406692e+01</td>\n",
       "    </tr>\n",
       "    <tr>\n",
       "      <th>25%</th>\n",
       "      <td>4.071495e+01</td>\n",
       "      <td>-7.399164e+01</td>\n",
       "      <td>4.071503e+01</td>\n",
       "      <td>-7.399177e+01</td>\n",
       "    </tr>\n",
       "    <tr>\n",
       "      <th>50%</th>\n",
       "      <td>4.073932e+01</td>\n",
       "      <td>-7.397964e+01</td>\n",
       "      <td>4.073913e+01</td>\n",
       "      <td>-7.397974e+01</td>\n",
       "    </tr>\n",
       "    <tr>\n",
       "      <th>75%</th>\n",
       "      <td>4.076193e+01</td>\n",
       "      <td>-7.395587e+01</td>\n",
       "      <td>4.076171e+01</td>\n",
       "      <td>-7.395596e+01</td>\n",
       "    </tr>\n",
       "    <tr>\n",
       "      <th>max</th>\n",
       "      <td>4.088636e+01</td>\n",
       "      <td>-7.384962e+01</td>\n",
       "      <td>4.092000e+01</td>\n",
       "      <td>-7.379000e+01</td>\n",
       "    </tr>\n",
       "  </tbody>\n",
       "</table>\n",
       "</div>"
      ],
      "text/plain": [
       "          start_lat     start_lng       end_lat       end_lng\n",
       "count  1.888085e+06  1.888085e+06  1.887534e+06  1.887534e+06\n",
       "mean   4.073898e+01 -7.397188e+01  4.073888e+01 -7.397208e+01\n",
       "std    4.003527e-02  2.818343e-02  3.990145e-02  2.816227e-02\n",
       "min    4.056315e+01 -7.402699e+01  4.058000e+01 -7.406692e+01\n",
       "25%    4.071495e+01 -7.399164e+01  4.071503e+01 -7.399177e+01\n",
       "50%    4.073932e+01 -7.397964e+01  4.073913e+01 -7.397974e+01\n",
       "75%    4.076193e+01 -7.395587e+01  4.076171e+01 -7.395596e+01\n",
       "max    4.088636e+01 -7.384962e+01  4.092000e+01 -7.379000e+01"
      ]
     },
     "execution_count": 60,
     "metadata": {},
     "output_type": "execute_result"
    }
   ],
   "source": [
    "bike_data.describe()"
   ]
  },
  {
   "cell_type": "markdown",
   "metadata": {},
   "source": [
    "# Feature Engineering"
   ]
  },
  {
   "cell_type": "code",
   "execution_count": 61,
   "metadata": {},
   "outputs": [
    {
     "name": "stdout",
     "output_type": "stream",
     "text": [
      "start_lat      0\n",
      "start_lng      0\n",
      "end_lat      551\n",
      "end_lng      551\n",
      "dtype: int64\n"
     ]
    }
   ],
   "source": [
    "# Check for NaN values in latitude and longitude columns\n",
    "print(bike_data[['start_lat', 'start_lng', 'end_lat', 'end_lng']].isnull().sum())\n"
   ]
  },
  {
   "cell_type": "code",
   "execution_count": 62,
   "metadata": {},
   "outputs": [],
   "source": [
    "# Drop rows with NaN values in latitude and longitude columns\n",
    "bike_data = bike_data.dropna(subset=['end_lat', 'end_lng'])"
   ]
  },
  {
   "cell_type": "markdown",
   "metadata": {},
   "source": [
    "## Calculate Duration (in minutes) and create duration types (short, average, long, extra long)"
   ]
  },
  {
   "cell_type": "code",
   "execution_count": 63,
   "metadata": {},
   "outputs": [],
   "source": [
    "bike_data['started_at'] = pd.to_datetime(bike_data['started_at'])\n",
    "bike_data['ended_at'] = pd.to_datetime(bike_data['ended_at'])\n",
    "bike_data['duration'] = (bike_data['ended_at'] - bike_data['started_at']).dt.total_seconds() / 60  # convert to minutes\n"
   ]
  },
  {
   "cell_type": "code",
   "execution_count": 64,
   "metadata": {},
   "outputs": [],
   "source": [
    "bike_data['duration'] = np.where(bike_data['duration'] < 60, \"short_trip\", np.where(\n",
    "    (bike_data['duration'] > 60) & (bike_data['duration'] < 60 * 24), \"average_trip\", np.where(\n",
    "    (bike_data['duration'] > 60 * 24) & (bike_data['duration'] < 60 * 24 * 30), \"long_trip\",\n",
    "        \"extra_long_trip\")))"
   ]
  },
  {
   "cell_type": "markdown",
   "metadata": {},
   "source": [
    "## Calculate Distance (in kilometers) "
   ]
  },
  {
   "cell_type": "code",
   "execution_count": 65,
   "metadata": {},
   "outputs": [],
   "source": [
    "def calculate_distances_vectorized(df):\n",
    "    start_coords = list(zip(df['start_lat'], df['start_lng']))\n",
    "    end_coords = list(zip(df['end_lat'], df['end_lng']))\n",
    "    return np.array([haversine(start, end, unit=Unit.KILOMETERS) for start, end in zip(start_coords, end_coords)])\n"
   ]
  },
  {
   "cell_type": "code",
   "execution_count": 66,
   "metadata": {},
   "outputs": [],
   "source": [
    "bike_data['distance'] = calculate_distances_vectorized(bike_data)"
   ]
  },
  {
   "cell_type": "markdown",
   "metadata": {},
   "source": [
    "## Encode the 'member_casual', 'rideable_type', 'duration' column"
   ]
  },
  {
   "cell_type": "code",
   "execution_count": 68,
   "metadata": {},
   "outputs": [],
   "source": [
    "label_encoder = LabelEncoder()\n",
    "bike_data['member_casual_encoded'] = label_encoder.fit_transform(bike_data['member_casual'])\n",
    "bike_data['rideable_type_encoded'] = label_encoder.fit_transform(bike_data['rideable_type'])\n",
    "bike_data['duration_type_encoded'] = label_encoder.fit_transform(bike_data['duration'])"
   ]
  },
  {
   "cell_type": "markdown",
   "metadata": {},
   "source": [
    "## Select relevant features"
   ]
  },
  {
   "cell_type": "code",
   "execution_count": 102,
   "metadata": {},
   "outputs": [],
   "source": [
    "# Select relevant features for anomaly detection\n",
    "# features = ['duration', 'distance', 'member_casual_encoded']\n",
    "# features = ['duration_type_encoded', 'distance', 'member_casual_encoded', 'rideable_type_encoded']\n",
    "features = ['duration_type_encoded']\n",
    "X = bike_data[features]\n"
   ]
  },
  {
   "cell_type": "markdown",
   "metadata": {},
   "source": [
    "# Data Analysis"
   ]
  },
  {
   "cell_type": "code",
   "execution_count": 107,
   "metadata": {},
   "outputs": [
    {
     "data": {
      "image/png": "[encoded data removed]",
      "text/plain": [
       "<Figure size 1000x600 with 1 Axes>"
      ]
     },
     "metadata": {},
     "output_type": "display_data"
    }
   ],
   "source": [
    "# Count the number of trips in each category\n",
    "trip_counts = bike_data['duration'].value_counts()\n",
    "\n",
    "# Plotting\n",
    "plt.figure(figsize=(10, 6))\n",
    "trip_counts.plot(kind='bar', color=['skyblue', 'lightgreen', 'salmon', 'gold'])\n",
    "plt.title('Number of Trips by Duration Category')\n",
    "plt.xlabel('Trip Duration Category')\n",
    "plt.ylabel('Number of Trips')\n",
    "plt.xticks(rotation=45)\n",
    "plt.grid(axis='y')\n",
    "\n",
    "# Show the plot\n",
    "plt.tight_layout()\n",
    "plt.show()"
   ]
  },
  {
   "cell_type": "code",
   "execution_count": 108,
   "metadata": {},
   "outputs": [
    {
     "data": {
      "text/plain": [
       "duration\n",
       "short_trip      1873889\n",
       "average_trip      13589\n",
       "long_trip            56\n",
       "Name: count, dtype: int64"
      ]
     },
     "execution_count": 108,
     "metadata": {},
     "output_type": "execute_result"
    }
   ],
   "source": [
    "trip_counts"
   ]
  },
  {
   "cell_type": "code",
   "execution_count": 109,
   "metadata": {},
   "outputs": [],
   "source": [
    "contamination = trip_counts['long_trip'] / bike_data.shape[0]"
   ]
  },
  {
   "cell_type": "code",
   "execution_count": 112,
   "metadata": {},
   "outputs": [
    {
     "data": {
      "text/plain": [
       "np.float64(2.9668339749111804e-05)"
      ]
     },
     "execution_count": 112,
     "metadata": {},
     "output_type": "execute_result"
    }
   ],
   "source": [
    "contamination"
   ]
  },
  {
   "cell_type": "markdown",
   "metadata": {},
   "source": [
    "# Train Isolation Forest"
   ]
  },
  {
   "cell_type": "code",
   "execution_count": 121,
   "metadata": {},
   "outputs": [],
   "source": [
    "# Initialize the Isolation Forest model\n",
    "iso_forest = IsolationForest(contamination=contamination, n_estimators=100, max_samples=0.6, max_features=0.9) \n",
    "\n",
    "# Fit the model to the data\n",
    "bike_data['anomaly'] = iso_forest.fit_predict(X)\n"
   ]
  },
  {
   "cell_type": "markdown",
   "metadata": {},
   "source": [
    "# Plot the Anomalies"
   ]
  },
  {
   "cell_type": "code",
   "execution_count": 122,
   "metadata": {},
   "outputs": [
    {
     "data": {
      "image/png": "[encoded data removed]",
      "text/plain": [
       "<Figure size 640x480 with 1 Axes>"
      ]
     },
     "metadata": {},
     "output_type": "display_data"
    },
    {
     "name": "stdout",
     "output_type": "stream",
     "text": [
      "                ride_id  rideable_type              started_at  \\\n",
      "307    904475C6D11A9D5D   classic_bike 2024-01-19 22:16:56.216   \n",
      "480    23B12F2A3BF35940   classic_bike 2024-01-27 12:48:55.980   \n",
      "16580  184C364C8536B4AB   classic_bike 2024-01-10 07:05:37.065   \n",
      "16582  4880E18EEB04E9CC  electric_bike 2024-01-07 07:39:08.467   \n",
      "16677  AE2F7F32EE59295A   classic_bike 2024-01-05 17:12:27.542   \n",
      "\n",
      "                     ended_at         start_station_name start_station_id  \\\n",
      "307   2024-01-20 23:16:50.855    Wyckoff Ave & Gates Ave          4847.03   \n",
      "480   2024-01-28 13:49:25.511  Bushwick Ave & Forrest St          4914.03   \n",
      "16580 2024-01-11 08:05:30.540            E 31 St & 3 Ave          6239.08   \n",
      "16582 2024-01-08 08:38:52.187   Bushwick Ave & Powers St          5250.05   \n",
      "16677 2024-01-06 18:12:05.109  Clay Ave & Claremont Pkwy          8225.05   \n",
      "\n",
      "      end_station_name end_station_id  start_lat  start_lng  end_lat  end_lng  \\\n",
      "307                NaN            NaN  40.699871 -73.911719    40.71   -73.90   \n",
      "480                NaN            NaN  40.700760 -73.936410    40.71   -73.95   \n",
      "16580              NaN            NaN  40.743943 -73.979661    40.73   -74.00   \n",
      "16582              NaN            NaN  40.712499 -73.941208    40.71   -73.95   \n",
      "16677              NaN            NaN  40.839990 -73.905490    40.84   -73.91   \n",
      "\n",
      "      member_casual   duration  distance  member_casual_encoded  \\\n",
      "307          casual  long_trip  1.498077                      0   \n",
      "480          casual  long_trip  1.538810                      0   \n",
      "16580        member  long_trip  2.310936                      1   \n",
      "16582        member  long_trip  0.791429                      1   \n",
      "16677        casual  long_trip  0.379398                      0   \n",
      "\n",
      "       rideable_type_encoded  duration_type_encoded  anomaly  \n",
      "307                        0                      1       -1  \n",
      "480                        0                      1       -1  \n",
      "16580                      0                      1       -1  \n",
      "16582                      1                      1       -1  \n",
      "16677                      0                      1       -1  \n"
     ]
    }
   ],
   "source": [
    "# Visualize the anomalies (1 = normal, -1 = anomaly)\n",
    "plt.scatter(bike_data['duration'], bike_data['distance'], c=bike_data['anomaly'], cmap='coolwarm')\n",
    "plt.xlabel('Duration (minutes)')\n",
    "plt.ylabel('Distance (km)')\n",
    "plt.title('Anomaly Detection in Bike Data')\n",
    "plt.show()\n",
    "\n",
    "# Print detected anomalies\n",
    "anomalies = bike_data[bike_data['anomaly'] == -1]\n",
    "print(anomalies.head())"
   ]
  },
  {
   "cell_type": "code",
   "execution_count": 118,
   "metadata": {},
   "outputs": [
    {
     "data": {
      "text/plain": [
       "(56, 19)"
      ]
     },
     "execution_count": 118,
     "metadata": {},
     "output_type": "execute_result"
    }
   ],
   "source": [
    "anomalies.shape"
   ]
  },
  {
   "cell_type": "code",
   "execution_count": 81,
   "metadata": {},
   "outputs": [],
   "source": [
    "# Separate data by member type\n",
    "members = bike_data[bike_data['member_casual_encoded'] == 0]\n",
    "casuals = bike_data[bike_data['member_casual_encoded'] == 1]\n",
    "\n"
   ]
  },
  {
   "cell_type": "code",
   "execution_count": 82,
   "metadata": {},
   "outputs": [
    {
     "data": {
      "image/png": "[encoded data removed]",
      "text/plain": [
       "<Figure size 1400x600 with 2 Axes>"
      ]
     },
     "metadata": {},
     "output_type": "display_data"
    }
   ],
   "source": [
    "fig, ax = plt.subplots(1, 2, figsize=(14, 6))\n",
    "\n",
    "# Plot for members\n",
    "ax[0].scatter(members['duration'], members['distance'], c=members['anomaly'], cmap='coolwarm')\n",
    "ax[0].set_title('Anomaly Detection - Members')\n",
    "ax[0].set_xlabel('Duration (minutes)')\n",
    "ax[0].set_ylabel('Distance (km)')\n",
    "\n",
    "# Plot for casuals\n",
    "ax[1].scatter(casuals['duration'], casuals['distance'], c=casuals['anomaly'], cmap='coolwarm')\n",
    "ax[1].set_title('Anomaly Detection - Casuals')\n",
    "ax[1].set_xlabel('Duration (minutes)')\n",
    "ax[1].set_ylabel('Distance (km)')\n",
    "\n",
    "# Show the plots\n",
    "plt.tight_layout()\n",
    "plt.show()"
   ]
  }
 ],
 "metadata": {
  "kernelspec": {
   "display_name": "Python 3",
   "language": "python",
   "name": "python3"
  },
  "language_info": {
   "codemirror_mode": {
    "name": "ipython",
    "version": 3
   },
   "file_extension": ".py",
   "mimetype": "text/x-python",
   "name": "python",
   "nbconvert_exporter": "python",
   "pygments_lexer": "ipython3",
   "version": "3.9.18"
  }
 },
 "nbformat": 4,
 "nbformat_minor": 2
}
