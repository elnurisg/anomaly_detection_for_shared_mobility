{
 "cells": [
  {
   "cell_type": "code",
   "execution_count": 103,
   "metadata": {},
   "outputs": [],
   "source": [
    "import pandas as pd\n",
    "from sklearn.ensemble import IsolationForest\n",
    "import matplotlib.pyplot as plt\n",
    "import numpy as np\n",
    "from sklearn.preprocessing import LabelEncoder\n",
    "from haversine import haversine, Unit\n",
    "from sklearn.preprocessing import StandardScaler\n",
    "from sklearn.decomposition import PCA\n",
    "from meteostat import Point, Hourly\n",
    "from datetime import datetime\n"
   ]
  },
  {
   "cell_type": "code",
   "execution_count": 104,
   "metadata": {},
   "outputs": [],
   "source": [
    "bike_data = pd.read_csv('data/202301-bluebikes-tripdata.csv')"
   ]
  },
  {
   "cell_type": "code",
   "execution_count": 105,
   "metadata": {},
   "outputs": [
    {
     "data": {
      "text/html": [
       "<div>\n",
       "<style scoped>\n",
       "    .dataframe tbody tr th:only-of-type {\n",
       "        vertical-align: middle;\n",
       "    }\n",
       "\n",
       "    .dataframe tbody tr th {\n",
       "        vertical-align: top;\n",
       "    }\n",
       "\n",
       "    .dataframe thead th {\n",
       "        text-align: right;\n",
       "    }\n",
       "</style>\n",
       "<table border=\"1\" class=\"dataframe\">\n",
       "  <thead>\n",
       "    <tr style=\"text-align: right;\">\n",
       "      <th></th>\n",
       "      <th>tripduration</th>\n",
       "      <th>starttime</th>\n",
       "      <th>stoptime</th>\n",
       "      <th>start station id</th>\n",
       "      <th>start station name</th>\n",
       "      <th>start station latitude</th>\n",
       "      <th>start station longitude</th>\n",
       "      <th>end station id</th>\n",
       "      <th>end station name</th>\n",
       "      <th>end station latitude</th>\n",
       "      <th>end station longitude</th>\n",
       "      <th>bikeid</th>\n",
       "      <th>usertype</th>\n",
       "      <th>postal code</th>\n",
       "    </tr>\n",
       "  </thead>\n",
       "  <tbody>\n",
       "    <tr>\n",
       "      <th>0</th>\n",
       "      <td>250</td>\n",
       "      <td>2023-01-01 00:02:54.0800</td>\n",
       "      <td>2023-01-01 00:07:04.4100</td>\n",
       "      <td>36</td>\n",
       "      <td>Copley Square - Dartmouth St at Boylston St</td>\n",
       "      <td>42.349928</td>\n",
       "      <td>-71.077392</td>\n",
       "      <td>21</td>\n",
       "      <td>Prudential Center - 101 Huntington Ave</td>\n",
       "      <td>42.346520</td>\n",
       "      <td>-71.080658</td>\n",
       "      <td>4213</td>\n",
       "      <td>Subscriber</td>\n",
       "      <td>02115</td>\n",
       "    </tr>\n",
       "    <tr>\n",
       "      <th>1</th>\n",
       "      <td>489</td>\n",
       "      <td>2023-01-01 00:10:33.3100</td>\n",
       "      <td>2023-01-01 00:18:42.3690</td>\n",
       "      <td>372</td>\n",
       "      <td>Boylston St at Exeter St</td>\n",
       "      <td>42.349589</td>\n",
       "      <td>-71.079468</td>\n",
       "      <td>404</td>\n",
       "      <td>Mass Ave T Station</td>\n",
       "      <td>42.341356</td>\n",
       "      <td>-71.083370</td>\n",
       "      <td>3153</td>\n",
       "      <td>Customer</td>\n",
       "      <td>NaN</td>\n",
       "    </tr>\n",
       "    <tr>\n",
       "      <th>2</th>\n",
       "      <td>461</td>\n",
       "      <td>2023-01-01 00:10:49.9130</td>\n",
       "      <td>2023-01-01 00:18:31.1280</td>\n",
       "      <td>372</td>\n",
       "      <td>Boylston St at Exeter St</td>\n",
       "      <td>42.349589</td>\n",
       "      <td>-71.079468</td>\n",
       "      <td>404</td>\n",
       "      <td>Mass Ave T Station</td>\n",
       "      <td>42.341356</td>\n",
       "      <td>-71.083370</td>\n",
       "      <td>3431</td>\n",
       "      <td>Customer</td>\n",
       "      <td>02186</td>\n",
       "    </tr>\n",
       "    <tr>\n",
       "      <th>3</th>\n",
       "      <td>1065</td>\n",
       "      <td>2023-01-01 00:13:58.0640</td>\n",
       "      <td>2023-01-01 00:31:43.5090</td>\n",
       "      <td>58</td>\n",
       "      <td>Mugar Way at Beacon St</td>\n",
       "      <td>42.355536</td>\n",
       "      <td>-71.072869</td>\n",
       "      <td>345</td>\n",
       "      <td>Park Plaza at Charles St S.</td>\n",
       "      <td>42.351828</td>\n",
       "      <td>-71.067811</td>\n",
       "      <td>4398</td>\n",
       "      <td>Customer</td>\n",
       "      <td>NaN</td>\n",
       "    </tr>\n",
       "    <tr>\n",
       "      <th>4</th>\n",
       "      <td>601</td>\n",
       "      <td>2023-01-01 00:14:02.6130</td>\n",
       "      <td>2023-01-01 00:24:03.8950</td>\n",
       "      <td>50</td>\n",
       "      <td>Boylston St at Berkeley St</td>\n",
       "      <td>42.351142</td>\n",
       "      <td>-71.073292</td>\n",
       "      <td>374</td>\n",
       "      <td>Tremont St at Hamilton Pl</td>\n",
       "      <td>42.356683</td>\n",
       "      <td>-71.061666</td>\n",
       "      <td>7964</td>\n",
       "      <td>Subscriber</td>\n",
       "      <td>02138</td>\n",
       "    </tr>\n",
       "  </tbody>\n",
       "</table>\n",
       "</div>"
      ],
      "text/plain": [
       "   tripduration                 starttime                  stoptime  \\\n",
       "0           250  2023-01-01 00:02:54.0800  2023-01-01 00:07:04.4100   \n",
       "1           489  2023-01-01 00:10:33.3100  2023-01-01 00:18:42.3690   \n",
       "2           461  2023-01-01 00:10:49.9130  2023-01-01 00:18:31.1280   \n",
       "3          1065  2023-01-01 00:13:58.0640  2023-01-01 00:31:43.5090   \n",
       "4           601  2023-01-01 00:14:02.6130  2023-01-01 00:24:03.8950   \n",
       "\n",
       "   start station id                           start station name  \\\n",
       "0                36  Copley Square - Dartmouth St at Boylston St   \n",
       "1               372                     Boylston St at Exeter St   \n",
       "2               372                     Boylston St at Exeter St   \n",
       "3                58                       Mugar Way at Beacon St   \n",
       "4                50                   Boylston St at Berkeley St   \n",
       "\n",
       "   start station latitude  start station longitude  end station id  \\\n",
       "0               42.349928               -71.077392              21   \n",
       "1               42.349589               -71.079468             404   \n",
       "2               42.349589               -71.079468             404   \n",
       "3               42.355536               -71.072869             345   \n",
       "4               42.351142               -71.073292             374   \n",
       "\n",
       "                         end station name  end station latitude  \\\n",
       "0  Prudential Center - 101 Huntington Ave             42.346520   \n",
       "1                      Mass Ave T Station             42.341356   \n",
       "2                      Mass Ave T Station             42.341356   \n",
       "3             Park Plaza at Charles St S.             42.351828   \n",
       "4               Tremont St at Hamilton Pl             42.356683   \n",
       "\n",
       "   end station longitude  bikeid    usertype postal code  \n",
       "0             -71.080658    4213  Subscriber       02115  \n",
       "1             -71.083370    3153    Customer         NaN  \n",
       "2             -71.083370    3431    Customer       02186  \n",
       "3             -71.067811    4398    Customer         NaN  \n",
       "4             -71.061666    7964  Subscriber       02138  "
      ]
     },
     "execution_count": 105,
     "metadata": {},
     "output_type": "execute_result"
    }
   ],
   "source": [
    "bike_data.head()"
   ]
  },
  {
   "cell_type": "code",
   "execution_count": 106,
   "metadata": {},
   "outputs": [
    {
     "data": {
      "text/plain": [
       "(140340, 14)"
      ]
     },
     "execution_count": 106,
     "metadata": {},
     "output_type": "execute_result"
    }
   ],
   "source": [
    "bike_data.shape"
   ]
  },
  {
   "cell_type": "code",
   "execution_count": 107,
   "metadata": {},
   "outputs": [
    {
     "name": "stdout",
     "output_type": "stream",
     "text": [
      "<class 'pandas.core.frame.DataFrame'>\n",
      "RangeIndex: 140340 entries, 0 to 140339\n",
      "Data columns (total 14 columns):\n",
      " #   Column                   Non-Null Count   Dtype  \n",
      "---  ------                   --------------   -----  \n",
      " 0   tripduration             140340 non-null  int64  \n",
      " 1   starttime                140340 non-null  object \n",
      " 2   stoptime                 140340 non-null  object \n",
      " 3   start station id         140340 non-null  int64  \n",
      " 4   start station name       140340 non-null  object \n",
      " 5   start station latitude   140340 non-null  float64\n",
      " 6   start station longitude  140340 non-null  float64\n",
      " 7   end station id           140340 non-null  int64  \n",
      " 8   end station name         140340 non-null  object \n",
      " 9   end station latitude     140340 non-null  float64\n",
      " 10  end station longitude    140340 non-null  float64\n",
      " 11  bikeid                   140340 non-null  int64  \n",
      " 12  usertype                 140340 non-null  object \n",
      " 13  postal code              131990 non-null  object \n",
      "dtypes: float64(4), int64(4), object(6)\n",
      "memory usage: 15.0+ MB\n"
     ]
    }
   ],
   "source": [
    "bike_data.info()"
   ]
  },
  {
   "cell_type": "code",
   "execution_count": 108,
   "metadata": {},
   "outputs": [
    {
     "data": {
      "text/html": [
       "<div>\n",
       "<style scoped>\n",
       "    .dataframe tbody tr th:only-of-type {\n",
       "        vertical-align: middle;\n",
       "    }\n",
       "\n",
       "    .dataframe tbody tr th {\n",
       "        vertical-align: top;\n",
       "    }\n",
       "\n",
       "    .dataframe thead th {\n",
       "        text-align: right;\n",
       "    }\n",
       "</style>\n",
       "<table border=\"1\" class=\"dataframe\">\n",
       "  <thead>\n",
       "    <tr style=\"text-align: right;\">\n",
       "      <th></th>\n",
       "      <th>tripduration</th>\n",
       "      <th>start station id</th>\n",
       "      <th>start station latitude</th>\n",
       "      <th>start station longitude</th>\n",
       "      <th>end station id</th>\n",
       "      <th>end station latitude</th>\n",
       "      <th>end station longitude</th>\n",
       "      <th>bikeid</th>\n",
       "    </tr>\n",
       "  </thead>\n",
       "  <tbody>\n",
       "    <tr>\n",
       "      <th>count</th>\n",
       "      <td>1.403400e+05</td>\n",
       "      <td>140340.000000</td>\n",
       "      <td>140340.000000</td>\n",
       "      <td>140340.000000</td>\n",
       "      <td>140340.00000</td>\n",
       "      <td>140340.000000</td>\n",
       "      <td>140340.000000</td>\n",
       "      <td>140340.000000</td>\n",
       "    </tr>\n",
       "    <tr>\n",
       "      <th>mean</th>\n",
       "      <td>1.260807e+03</td>\n",
       "      <td>206.073571</td>\n",
       "      <td>42.359247</td>\n",
       "      <td>-71.091262</td>\n",
       "      <td>204.45600</td>\n",
       "      <td>42.359176</td>\n",
       "      <td>-71.090774</td>\n",
       "      <td>5785.957076</td>\n",
       "    </tr>\n",
       "    <tr>\n",
       "      <th>std</th>\n",
       "      <td>1.935545e+04</td>\n",
       "      <td>174.294858</td>\n",
       "      <td>0.018060</td>\n",
       "      <td>0.026352</td>\n",
       "      <td>174.21936</td>\n",
       "      <td>0.017997</td>\n",
       "      <td>0.026327</td>\n",
       "      <td>2001.094702</td>\n",
       "    </tr>\n",
       "    <tr>\n",
       "      <th>min</th>\n",
       "      <td>6.100000e+01</td>\n",
       "      <td>3.000000</td>\n",
       "      <td>42.255600</td>\n",
       "      <td>-71.247759</td>\n",
       "      <td>1.00000</td>\n",
       "      <td>42.255600</td>\n",
       "      <td>-71.247759</td>\n",
       "      <td>2007.000000</td>\n",
       "    </tr>\n",
       "    <tr>\n",
       "      <th>25%</th>\n",
       "      <td>3.860000e+02</td>\n",
       "      <td>67.000000</td>\n",
       "      <td>42.348545</td>\n",
       "      <td>-71.107287</td>\n",
       "      <td>67.00000</td>\n",
       "      <td>42.348706</td>\n",
       "      <td>-71.106500</td>\n",
       "      <td>4063.000000</td>\n",
       "    </tr>\n",
       "    <tr>\n",
       "      <th>50%</th>\n",
       "      <td>6.170000e+02</td>\n",
       "      <td>142.000000</td>\n",
       "      <td>42.359825</td>\n",
       "      <td>-71.093198</td>\n",
       "      <td>139.00000</td>\n",
       "      <td>42.359573</td>\n",
       "      <td>-71.091567</td>\n",
       "      <td>5964.000000</td>\n",
       "    </tr>\n",
       "    <tr>\n",
       "      <th>75%</th>\n",
       "      <td>1.001000e+03</td>\n",
       "      <td>365.000000</td>\n",
       "      <td>42.368952</td>\n",
       "      <td>-71.073292</td>\n",
       "      <td>364.00000</td>\n",
       "      <td>42.368605</td>\n",
       "      <td>-71.072869</td>\n",
       "      <td>7704.000000</td>\n",
       "    </tr>\n",
       "    <tr>\n",
       "      <th>max</th>\n",
       "      <td>2.296250e+06</td>\n",
       "      <td>591.000000</td>\n",
       "      <td>42.529900</td>\n",
       "      <td>-70.886930</td>\n",
       "      <td>591.00000</td>\n",
       "      <td>42.529900</td>\n",
       "      <td>-70.886930</td>\n",
       "      <td>8708.000000</td>\n",
       "    </tr>\n",
       "  </tbody>\n",
       "</table>\n",
       "</div>"
      ],
      "text/plain": [
       "       tripduration  start station id  start station latitude  \\\n",
       "count  1.403400e+05     140340.000000           140340.000000   \n",
       "mean   1.260807e+03        206.073571               42.359247   \n",
       "std    1.935545e+04        174.294858                0.018060   \n",
       "min    6.100000e+01          3.000000               42.255600   \n",
       "25%    3.860000e+02         67.000000               42.348545   \n",
       "50%    6.170000e+02        142.000000               42.359825   \n",
       "75%    1.001000e+03        365.000000               42.368952   \n",
       "max    2.296250e+06        591.000000               42.529900   \n",
       "\n",
       "       start station longitude  end station id  end station latitude  \\\n",
       "count            140340.000000    140340.00000         140340.000000   \n",
       "mean                -71.091262       204.45600             42.359176   \n",
       "std                   0.026352       174.21936              0.017997   \n",
       "min                 -71.247759         1.00000             42.255600   \n",
       "25%                 -71.107287        67.00000             42.348706   \n",
       "50%                 -71.093198       139.00000             42.359573   \n",
       "75%                 -71.073292       364.00000             42.368605   \n",
       "max                 -70.886930       591.00000             42.529900   \n",
       "\n",
       "       end station longitude         bikeid  \n",
       "count          140340.000000  140340.000000  \n",
       "mean              -71.090774    5785.957076  \n",
       "std                 0.026327    2001.094702  \n",
       "min               -71.247759    2007.000000  \n",
       "25%               -71.106500    4063.000000  \n",
       "50%               -71.091567    5964.000000  \n",
       "75%               -71.072869    7704.000000  \n",
       "max               -70.886930    8708.000000  "
      ]
     },
     "execution_count": 108,
     "metadata": {},
     "output_type": "execute_result"
    }
   ],
   "source": [
    "bike_data.describe()"
   ]
  },
  {
   "cell_type": "markdown",
   "metadata": {},
   "source": [
    "# Adding weather data"
   ]
  },
  {
   "cell_type": "markdown",
   "metadata": {},
   "source": [
    "\n",
    "temp: Temperature in °C. You can use this for temperature categorization (cold, hot, etc.).\n",
    "\n",
    "dwpt (Dew Point): Shows the temperature at which air reaches saturation. It can help assess humidity.\n",
    "\n",
    "rhum (Relative Humidity): Indicates moisture in the air. High humidity may correlate with foggy or uncomfortable conditions.\n",
    "\n",
    "prcp (Precipitation): The amount of rain in mm. This is a critical feature, as rain could reduce bike usage.\n",
    "\n",
    "snow: Amount of snowfall. If available, this feature can indicate bad weather that impacts mobility.\n",
    "\n",
    "wdir (Wind Direction): Could help identify patterns where high winds affect bike riding.\n",
    "\n",
    "wspd (Wind Speed): Wind speed in km/h. Windy conditions might also explain anomalies, such as shorter or fewer trips.\n",
    "\n",
    "wpgt (Wind Gust): This represents wind gust speed in km/h, indicating the maximum short burst of wind speed during the hour. \n",
    "\n",
    "pres (Pressure): Atmospheric pressure, useful for assessing weather patterns (e.g., high pressure = clear skies).\n",
    "\n",
    "coco (Weather Condition Code): Encodes the general weather condition (clear, cloudy, rain, snow, etc.).\n",
    "\n",
    "tsun (Sunshine): Amount of sunshine (though it seems missing here)."
   ]
  },
  {
   "cell_type": "code",
   "execution_count": 109,
   "metadata": {},
   "outputs": [],
   "source": [
    "boston = Point(42.3601, -71.0589)  # Latitude and Longitude for Boston"
   ]
  },
  {
   "cell_type": "code",
   "execution_count": 110,
   "metadata": {},
   "outputs": [
    {
     "name": "stdout",
     "output_type": "stream",
     "text": [
      "                     temp  dwpt   rhum  prcp  snow   wdir  wspd  wpgt    pres  \\\n",
      "time                                                                            \n",
      "2023-01-01 00:00:00  11.1  11.1  100.0   1.2   NaN  180.0  13.0   NaN  1010.4   \n",
      "2023-01-01 01:00:00  11.1  11.1  100.0   0.3   NaN  190.0  11.2   NaN  1008.9   \n",
      "2023-01-01 02:00:00  11.7  11.7  100.0   0.5   NaN  210.0  13.0   NaN  1008.2   \n",
      "2023-01-01 03:00:00  11.1  11.1  100.0   1.8   NaN  190.0  11.2   NaN  1006.2   \n",
      "2023-01-01 04:00:00  12.2  12.2  100.0   2.3   NaN  220.0  16.6   NaN  1005.3   \n",
      "\n",
      "                     tsun  coco  \n",
      "time                             \n",
      "2023-01-01 00:00:00   NaN   7.0  \n",
      "2023-01-01 01:00:00   NaN   7.0  \n",
      "2023-01-01 02:00:00   NaN   7.0  \n",
      "2023-01-01 03:00:00   NaN   7.0  \n",
      "2023-01-01 04:00:00   NaN   7.0  \n"
     ]
    },
    {
     "name": "stderr",
     "output_type": "stream",
     "text": [
      "FutureWarning: 'H' is deprecated and will be removed in a future version, please use 'h' instead.\n"
     ]
    }
   ],
   "source": [
    "start = datetime(2023, 1, 1)\n",
    "end = datetime(2023, 1, 31)\n",
    "\n",
    "weather_data_hourly = Hourly(boston, start, end)\n",
    "weather_data_hourly = weather_data_hourly.fetch()\n",
    "\n",
    "# Show the first few rows of the fetched data\n",
    "print(weather_data_hourly.head())"
   ]
  },
  {
   "cell_type": "code",
   "execution_count": 111,
   "metadata": {},
   "outputs": [],
   "source": [
    "weather_data_hourly = weather_data_hourly.reset_index()"
   ]
  },
  {
   "cell_type": "code",
   "execution_count": 112,
   "metadata": {},
   "outputs": [
    {
     "name": "stdout",
     "output_type": "stream",
     "text": [
      "   tripduration               starttime                  stoptime  \\\n",
      "0           250 2023-01-01 00:02:54.080  2023-01-01 00:07:04.4100   \n",
      "1           489 2023-01-01 00:10:33.310  2023-01-01 00:18:42.3690   \n",
      "2           461 2023-01-01 00:10:49.913  2023-01-01 00:18:31.1280   \n",
      "3          1065 2023-01-01 00:13:58.064  2023-01-01 00:31:43.5090   \n",
      "4           601 2023-01-01 00:14:02.613  2023-01-01 00:24:03.8950   \n",
      "\n",
      "   start station id                           start station name  \\\n",
      "0                36  Copley Square - Dartmouth St at Boylston St   \n",
      "1               372                     Boylston St at Exeter St   \n",
      "2               372                     Boylston St at Exeter St   \n",
      "3                58                       Mugar Way at Beacon St   \n",
      "4                50                   Boylston St at Berkeley St   \n",
      "\n",
      "   start station latitude  start station longitude  end station id  \\\n",
      "0               42.349928               -71.077392              21   \n",
      "1               42.349589               -71.079468             404   \n",
      "2               42.349589               -71.079468             404   \n",
      "3               42.355536               -71.072869             345   \n",
      "4               42.351142               -71.073292             374   \n",
      "\n",
      "                         end station name  end station latitude  ...  dwpt  \\\n",
      "0  Prudential Center - 101 Huntington Ave             42.346520  ...  11.1   \n",
      "1                      Mass Ave T Station             42.341356  ...  11.1   \n",
      "2                      Mass Ave T Station             42.341356  ...  11.1   \n",
      "3             Park Plaza at Charles St S.             42.351828  ...  11.1   \n",
      "4               Tremont St at Hamilton Pl             42.356683  ...  11.1   \n",
      "\n",
      "    rhum prcp snow   wdir  wspd  wpgt    pres  tsun  coco  \n",
      "0  100.0  1.2  NaN  180.0  13.0   NaN  1010.4   NaN   7.0  \n",
      "1  100.0  1.2  NaN  180.0  13.0   NaN  1010.4   NaN   7.0  \n",
      "2  100.0  1.2  NaN  180.0  13.0   NaN  1010.4   NaN   7.0  \n",
      "3  100.0  1.2  NaN  180.0  13.0   NaN  1010.4   NaN   7.0  \n",
      "4  100.0  1.2  NaN  180.0  13.0   NaN  1010.4   NaN   7.0  \n",
      "\n",
      "[5 rows x 26 columns]\n"
     ]
    }
   ],
   "source": [
    "# Ensure both are in datetime format\n",
    "bike_data['starttime'] = pd.to_datetime(bike_data['starttime'])\n",
    "weather_data_hourly['time'] = pd.to_datetime(weather_data_hourly['time'])\n",
    "\n",
    "bike_weather_data = pd.merge_asof(bike_data, weather_data_hourly, left_on='starttime', right_on='time', direction='nearest')\n",
    "\n",
    "print(bike_weather_data.head())\n"
   ]
  },
  {
   "cell_type": "markdown",
   "metadata": {},
   "source": [
    "# Feature Engineering"
   ]
  },
  {
   "cell_type": "code",
   "execution_count": 113,
   "metadata": {},
   "outputs": [
    {
     "name": "stdout",
     "output_type": "stream",
     "text": [
      "tripduration                    0\n",
      "starttime                       0\n",
      "stoptime                        0\n",
      "start station id                0\n",
      "start station name              0\n",
      "start station latitude          0\n",
      "start station longitude         0\n",
      "end station id                  0\n",
      "end station name                0\n",
      "end station latitude            0\n",
      "end station longitude           0\n",
      "bikeid                          0\n",
      "usertype                        0\n",
      "postal code                  8350\n",
      "time                            0\n",
      "temp                            0\n",
      "dwpt                            0\n",
      "rhum                            0\n",
      "prcp                            0\n",
      "snow                       140340\n",
      "wdir                            0\n",
      "wspd                            0\n",
      "wpgt                       140340\n",
      "pres                            0\n",
      "tsun                       140340\n",
      "coco                            0\n",
      "dtype: int64\n",
      "140340\n"
     ]
    }
   ],
   "source": [
    "# Check for NaN values \n",
    "print(bike_weather_data.isnull().sum())\n",
    "print(len(bike_weather_data))"
   ]
  },
  {
   "cell_type": "code",
   "execution_count": 114,
   "metadata": {},
   "outputs": [
    {
     "name": "stdout",
     "output_type": "stream",
     "text": [
      "tripduration                  0\n",
      "starttime                     0\n",
      "stoptime                      0\n",
      "start station id              0\n",
      "start station name            0\n",
      "start station latitude        0\n",
      "start station longitude       0\n",
      "end station id                0\n",
      "end station name              0\n",
      "end station latitude          0\n",
      "end station longitude         0\n",
      "bikeid                        0\n",
      "usertype                      0\n",
      "postal code                8350\n",
      "time                          0\n",
      "temp                          0\n",
      "dwpt                          0\n",
      "rhum                          0\n",
      "prcp                          0\n",
      "wdir                          0\n",
      "wspd                          0\n",
      "pres                          0\n",
      "coco                          0\n",
      "dtype: int64\n"
     ]
    }
   ],
   "source": [
    "bike_weather_data = bike_weather_data.drop(columns=['snow', 'wpgt', 'tsun'])\n",
    "print(bike_weather_data.isnull().sum())"
   ]
  },
  {
   "cell_type": "markdown",
   "metadata": {},
   "source": [
    "Code\tWeather Condition\n",
    "\n",
    "1\tClear\n",
    "\n",
    "2\tFair\n",
    "\n",
    "3\tCloudy\n",
    "\n",
    "4\tOvercast\n",
    "\n",
    "5\tFog\n",
    "\n",
    "6\tFreezing Fog\n",
    "\n",
    "7\tLight Rain\n",
    "\n",
    "8\tRain\n",
    "\n",
    "9\tHeavy Rain\n",
    "\n",
    "10\tFreezing Rain\n",
    "\n",
    "11\tHeavy Freezing Rain\n",
    "\n",
    "12\tSleet\n",
    "\n",
    "13\tHeavy Sleet\n",
    "\n",
    "14\tLight Snowfall\n",
    "\n",
    "15\tSnowfall\n",
    "\n",
    "16\tHeavy Snowfall\n",
    "\n",
    "17\tRain Shower\n",
    "\n",
    "18\tHeavy Rain Shower\n",
    "\n",
    "19\tSleet Shower\n",
    "\n",
    "20\tHeavy Sleet Shower\n",
    "\n",
    "21\tSnow Shower\n",
    "\n",
    "22\tHeavy Snow Shower\n",
    "\n",
    "23\tLightning\n",
    "\n",
    "24\tHail\n",
    "\n",
    "25\tThunderstorm\n",
    "\n",
    "26\tHeavy Thunderstorm\n",
    "\n",
    "27\tStorm"
   ]
  },
  {
   "cell_type": "code",
   "execution_count": 115,
   "metadata": {},
   "outputs": [
    {
     "data": {
      "text/plain": [
       "0         7.0\n",
       "1         7.0\n",
       "2         7.0\n",
       "3         7.0\n",
       "4         7.0\n",
       "         ... \n",
       "140335    3.0\n",
       "140336    3.0\n",
       "140337    3.0\n",
       "140338    3.0\n",
       "140339    3.0\n",
       "Name: coco, Length: 140340, dtype: float64"
      ]
     },
     "execution_count": 115,
     "metadata": {},
     "output_type": "execute_result"
    }
   ],
   "source": [
    "bike_weather_data['coco']"
   ]
  },
  {
   "cell_type": "markdown",
   "metadata": {},
   "source": [
    "## Create duration types (short, average, long, extra long)"
   ]
  },
  {
   "cell_type": "code",
   "execution_count": 8,
   "metadata": {},
   "outputs": [],
   "source": [
    "bike_data['tripduration_type'] = np.where(bike_data['tripduration'] < 3600, \"short_trip\", np.where(\n",
    "    (bike_data['tripduration'] > 3600) & (bike_data['tripduration'] < 3600 * 24), \"average_trip\", np.where(\n",
    "    (bike_data['tripduration'] > 3600 * 24) & (bike_data['tripduration'] < 3600 * 24 * 30), \"long_trip\",\n",
    "        \"extra_long_trip\")))"
   ]
  },
  {
   "cell_type": "markdown",
   "metadata": {},
   "source": [
    "## Calculate Distance (in kilometers) "
   ]
  },
  {
   "cell_type": "code",
   "execution_count": 116,
   "metadata": {},
   "outputs": [],
   "source": [
    "def calculate_distances_vectorized(df):\n",
    "    start_coords = list(zip(df['start station latitude'], df['start station longitude']))\n",
    "    end_coords = list(zip(df['end station latitude'], df['end station longitude']))\n",
    "    return np.array([haversine(start, end, unit=Unit.KILOMETERS) for start, end in zip(start_coords, end_coords)])\n"
   ]
  },
  {
   "cell_type": "code",
   "execution_count": 117,
   "metadata": {},
   "outputs": [],
   "source": [
    "bike_weather_data['distance'] = calculate_distances_vectorized(bike_weather_data)"
   ]
  },
  {
   "cell_type": "markdown",
   "metadata": {},
   "source": [
    "## Extract the hour/day/month as features"
   ]
  },
  {
   "cell_type": "code",
   "execution_count": 120,
   "metadata": {},
   "outputs": [],
   "source": [
    "bike_weather_data['start_hour'] = bike_weather_data['starttime'].dt.hour\n",
    "bike_weather_data['start_dayofweek'] = bike_weather_data['starttime'].dt.dayofweek\n",
    "bike_weather_data['start_month'] = bike_weather_data['starttime'].dt.month\n",
    "\n",
    "bike_weather_data['end_hour'] = pd.to_datetime(bike_weather_data['stoptime']).dt.hour\n",
    "bike_weather_data['end_dayofweek'] = pd.to_datetime(bike_weather_data['stoptime']).dt.dayofweek\n",
    "bike_weather_data['end_month'] = pd.to_datetime(bike_weather_data['stoptime']).dt.month"
   ]
  },
  {
   "cell_type": "markdown",
   "metadata": {},
   "source": [
    "## Encode the 'member_casual', 'rideable_type', 'duration' column"
   ]
  },
  {
   "cell_type": "code",
   "execution_count": 122,
   "metadata": {},
   "outputs": [],
   "source": [
    "label_encoder = LabelEncoder()\n",
    "bike_weather_data['user_type_encoded'] = label_encoder.fit_transform(bike_weather_data['usertype'])\n",
    "# bike_data['rideable_type_encoded'] = label_encoder.fit_transform(bike_data['rideable_type'])\n",
    "# bike_data['duration_type_encoded'] = label_encoder.fit_transform(bike_data['tripduration_type'])"
   ]
  },
  {
   "cell_type": "markdown",
   "metadata": {},
   "source": [
    "## Select relevant features"
   ]
  },
  {
   "cell_type": "code",
   "execution_count": 142,
   "metadata": {},
   "outputs": [],
   "source": [
    "# Select relevant features for anomaly detection\n",
    "# features = ['duration_type_encoded', 'distance', 'user_type_encoded']\n",
    "# features = ['duration_type_encoded']\n",
    "# features = ['tripduration', 'distance', 'user_type_encoded']\n",
    "features = ['tripduration', 'distance', 'user_type_encoded', \n",
    "                    'temp', 'wspd', 'prcp', 'coco', \n",
    "                    'start_hour', 'start_dayofweek', 'start_month', \n",
    "                    'end_hour', 'end_dayofweek', 'end_month']\n",
    "X = bike_weather_data[features]\n"
   ]
  },
  {
   "cell_type": "code",
   "execution_count": 177,
   "metadata": {},
   "outputs": [],
   "source": [
    "scaler = StandardScaler()\n",
    "X_scaled = scaler.fit_transform(X)\n",
    "\n",
    "pca = PCA(n_components=6)\n",
    "X_pca = pca.fit_transform(X)\n",
    "\n",
    "bike_weather_data['PCA1'] = X_pca[:, 0]\n",
    "bike_weather_data['PCA2'] = X_pca[:, 1]\n",
    "bike_weather_data['PCA3'] = X_pca[:, 2]\n",
    "bike_weather_data['PCA4'] = X_pca[:, 3]\n",
    "bike_weather_data['PCA5'] = X_pca[:, 4]\n",
    "bike_weather_data['PCA6'] = X_pca[:, 5]\n"
   ]
  },
  {
   "cell_type": "code",
   "execution_count": 172,
   "metadata": {},
   "outputs": [],
   "source": [
    "pca = PCA(n_components=1)\n",
    "X_pca = pca.fit_transform(X)\n",
    "\n",
    "bike_data['PCA_only'] = X_pca\n"
   ]
  },
  {
   "cell_type": "markdown",
   "metadata": {},
   "source": [
    "# Data Analysis"
   ]
  },
  {
   "cell_type": "code",
   "execution_count": 14,
   "metadata": {},
   "outputs": [
    {
     "data": {
      "image/png": "[encoded data removed]",
      "text/plain": [
       "<Figure size 1000x600 with 1 Axes>"
      ]
     },
     "metadata": {},
     "output_type": "display_data"
    }
   ],
   "source": [
    "# Count the number of trips in each category\n",
    "trip_counts = bike_data['tripduration_type'].value_counts()\n",
    "\n",
    "# Plotting\n",
    "plt.figure(figsize=(10, 6))\n",
    "trip_counts.plot(kind='bar', color=['skyblue', 'lightgreen', 'salmon', 'gold'])\n",
    "plt.title('Number of Trips by Duration Category')\n",
    "plt.xlabel('Trip Duration Category')\n",
    "plt.ylabel('Number of Trips')\n",
    "plt.xticks(rotation=45)\n",
    "plt.grid(axis='y')\n",
    "\n",
    "# Show the plot\n",
    "plt.tight_layout()\n",
    "plt.show()"
   ]
  },
  {
   "cell_type": "code",
   "execution_count": 15,
   "metadata": {},
   "outputs": [
    {
     "data": {
      "text/plain": [
       "tripduration_type\n",
       "short_trip      138477\n",
       "average_trip      1735\n",
       "long_trip          128\n",
       "Name: count, dtype: int64"
      ]
     },
     "execution_count": 15,
     "metadata": {},
     "output_type": "execute_result"
    }
   ],
   "source": [
    "trip_counts"
   ]
  },
  {
   "cell_type": "code",
   "execution_count": 29,
   "metadata": {},
   "outputs": [],
   "source": [
    "contamination = trip_counts['long_trip'] / bike_data.shape[0]"
   ]
  },
  {
   "cell_type": "code",
   "execution_count": 30,
   "metadata": {},
   "outputs": [
    {
     "data": {
      "text/plain": [
       "np.float64(0.0009120706854781245)"
      ]
     },
     "execution_count": 30,
     "metadata": {},
     "output_type": "execute_result"
    }
   ],
   "source": [
    "contamination"
   ]
  },
  {
   "cell_type": "markdown",
   "metadata": {},
   "source": [
    "# Train Isolation Forest"
   ]
  },
  {
   "cell_type": "code",
   "execution_count": 184,
   "metadata": {},
   "outputs": [],
   "source": [
    "# Initialize the Isolation Forest model\n",
    "iso_forest = IsolationForest(contamination=0.005, n_estimators=500, max_samples=0.6, max_features=0.9) \n",
    "\n",
    "# Fit the model to the data\n",
    "# bike_weather_data['anomaly'] = iso_forest.fit_predict(X_scaled)\n",
    "bike_weather_data['anomaly'] = iso_forest.fit_predict(bike_weather_data[['PCA1', 'PCA2', 'PCA3', 'PCA4', 'PCA5', 'PCA6']])\n",
    "# bike_data['anomaly'] = iso_forest.fit_predict(bike_data[['PCA_only']])\n",
    "# bike_weather_data['anomaly'] = iso_forest.fit_predict(X)\n",
    "\n"
   ]
  },
  {
   "cell_type": "markdown",
   "metadata": {},
   "source": [
    "# Plot the Anomalies"
   ]
  },
  {
   "cell_type": "code",
   "execution_count": 185,
   "metadata": {},
   "outputs": [
    {
     "data": {
      "image/png": "[encoded data removed]",
      "text/plain": [
       "<Figure size 640x480 with 1 Axes>"
      ]
     },
     "metadata": {},
     "output_type": "display_data"
    },
    {
     "name": "stdout",
     "output_type": "stream",
     "text": [
      "    tripduration               starttime                  stoptime  \\\n",
      "0            250 2023-01-01 00:02:54.080  2023-01-01 00:07:04.4100   \n",
      "7           1693 2023-01-01 00:18:49.451  2023-01-01 00:47:03.1900   \n",
      "8           1689 2023-01-01 00:19:33.867  2023-01-01 00:47:43.5990   \n",
      "9           1615 2023-01-01 00:19:45.343  2023-01-01 00:46:40.3830   \n",
      "13          1398 2023-01-01 00:24:25.968  2023-01-01 00:47:44.3140   \n",
      "\n",
      "    start station id                                 start station name  \\\n",
      "0                 36        Copley Square - Dartmouth St at Boylston St   \n",
      "7                 50                         Boylston St at Berkeley St   \n",
      "8                 50                         Boylston St at Berkeley St   \n",
      "9                 50                         Boylston St at Berkeley St   \n",
      "13                75  Lafayette Square at Mass Ave / Main St / Colum...   \n",
      "\n",
      "    start station latitude  start station longitude  end station id  \\\n",
      "0                42.349928               -71.077392              21   \n",
      "7                42.351142               -71.073292              50   \n",
      "8                42.351142               -71.073292              50   \n",
      "9                42.351142               -71.073292              50   \n",
      "13               42.363465               -71.100573             360   \n",
      "\n",
      "                          end station name  end station latitude  ...  \\\n",
      "0   Prudential Center - 101 Huntington Ave             42.346520  ...   \n",
      "7               Boylston St at Berkeley St             42.351142  ...   \n",
      "8               Boylston St at Berkeley St             42.351142  ...   \n",
      "9               Boylston St at Berkeley St             42.351142  ...   \n",
      "13           Bartlett St at John Elliot Sq             42.329463  ...   \n",
      "\n",
      "    end_dayofweek  end_month user_type_encoded         PCA1      PCA2  \\\n",
      "0               6          1                 1 -1010.807212 -4.667254   \n",
      "7               6          1                 0   432.192788 -4.669398   \n",
      "8               6          1                 0   428.192788 -4.669386   \n",
      "9               6          1                 0   354.192788 -4.669166   \n",
      "13              6          1                 0   137.192798 -4.672190   \n",
      "\n",
      "    anomaly       PCA3      PCA4      PCA5      PCA6  \n",
      "0        -1 -17.515326  9.661550  4.126953  4.930337  \n",
      "7        -1 -17.509967  9.657417  4.144539  4.935922  \n",
      "8        -1 -17.509969  9.657421  4.144540  4.935925  \n",
      "9        -1 -17.510013  9.657496  4.144565  4.935967  \n",
      "13       -1 -17.550173  9.710190  4.145571  4.895517  \n",
      "\n",
      "[5 rows x 38 columns]\n"
     ]
    }
   ],
   "source": [
    "# Visualize the anomalies (1 = normal, -1 = anomaly)\n",
    "plt.scatter(bike_weather_data['tripduration'] / 3600, bike_weather_data['distance'], c=bike_weather_data['anomaly'], cmap='coolwarm')\n",
    "\n",
    "plt.xlim(0, 50)\n",
    "\n",
    "plt.xlabel('Duration (hours)')\n",
    "plt.ylabel('Distance (km)')\n",
    "plt.title('Anomaly Detection in Bike Data')\n",
    "plt.show()\n",
    "\n",
    "# Print detected anomalies\n",
    "anomalies = bike_weather_data[bike_weather_data['anomaly'] == -1]\n",
    "print(anomalies.head())"
   ]
  },
  {
   "cell_type": "code",
   "execution_count": 187,
   "metadata": {},
   "outputs": [
    {
     "data": {
      "text/plain": [
       "(702, 38)"
      ]
     },
     "execution_count": 187,
     "metadata": {},
     "output_type": "execute_result"
    }
   ],
   "source": [
    "anomalies.shape"
   ]
  },
  {
   "cell_type": "code",
   "execution_count": 188,
   "metadata": {},
   "outputs": [
    {
     "name": "stdout",
     "output_type": "stream",
     "text": [
      "8.690883190883191\n",
      "4.0543261862816715\n"
     ]
    }
   ],
   "source": [
    "print(anomalies['coco'].mean())\n",
    "print(bike_weather_data[bike_weather_data['anomaly'] == 1]['coco'].mean())"
   ]
  },
  {
   "cell_type": "code",
   "execution_count": 182,
   "metadata": {},
   "outputs": [
    {
     "data": {
      "text/plain": [
       "7         6\n",
       "8         6\n",
       "9         6\n",
       "13        6\n",
       "30        6\n",
       "         ..\n",
       "134359    1\n",
       "134365    1\n",
       "134374    1\n",
       "134376    1\n",
       "134389    1\n",
       "Name: start_dayofweek, Length: 702, dtype: int32"
      ]
     },
     "execution_count": 182,
     "metadata": {},
     "output_type": "execute_result"
    }
   ],
   "source": [
    "anomalies['start_dayofweek']"
   ]
  },
  {
   "cell_type": "code",
   "execution_count": null,
   "metadata": {},
   "outputs": [],
   "source": []
  }
 ],
 "metadata": {
  "kernelspec": {
   "display_name": "adbike_env",
   "language": "python",
   "name": "python3"
  },
  "language_info": {
   "codemirror_mode": {
    "name": "ipython",
    "version": 3
   },
   "file_extension": ".py",
   "mimetype": "text/x-python",
   "name": "python",
   "nbconvert_exporter": "python",
   "pygments_lexer": "ipython3",
   "version": "3.9.18"
  }
 },
 "nbformat": 4,
 "nbformat_minor": 2
}
